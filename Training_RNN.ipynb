{
 "cells": [
  {
   "cell_type": "code",
   "execution_count": 1,
   "metadata": {
    "collapsed": true
   },
   "outputs": [],
   "source": [
    "% matplotlib inline\n",
    "% load_ext autoreload\n",
    "% autoreload 2"
   ]
  },
  {
   "cell_type": "code",
   "execution_count": 2,
   "metadata": {},
   "outputs": [
    {
     "name": "stderr",
     "output_type": "stream",
     "text": [
      "C:\\Users\\keert\\Anaconda3\\lib\\site-packages\\h5py\\__init__.py:34: FutureWarning: Conversion of the second argument of issubdtype from `float` to `np.floating` is deprecated. In future, it will be treated as `np.float64 == np.dtype(float).type`.\n",
      "  from ._conv import register_converters as _register_converters\n"
     ]
    }
   ],
   "source": [
    "from __future__ import print_function\n",
    "import tensorflow as tf\n",
    "import numpy as np\n",
    "from deep_visual_odometry.kitti_utils import KITTIdata\n",
    "from matplotlib import pyplot as plt"
   ]
  },
  {
   "cell_type": "code",
   "execution_count": 3,
   "metadata": {
    "collapsed": true
   },
   "outputs": [],
   "source": [
    "basedir = 'dataset'"
   ]
  },
  {
   "cell_type": "code",
   "execution_count": 4,
   "metadata": {
    "collapsed": true
   },
   "outputs": [],
   "source": [
    "from deep_visual_odometry.odometry_model import OdomModel"
   ]
  },
  {
   "cell_type": "code",
   "execution_count": 5,
   "metadata": {
    "collapsed": true
   },
   "outputs": [],
   "source": [
    "batch_size = 256         # Sequences per batch\n",
    "num_steps = 8         # Number of sequence steps per batch\n",
    "rnn_size = 64          # Size of hidden layers in rnn_cell\n",
    "num_layers = 2           # Number of hidden layers\n",
    "learning_rate = 0.001"
   ]
  },
  {
   "cell_type": "code",
   "execution_count": 6,
   "metadata": {},
   "outputs": [
    {
     "name": "stdout",
     "output_type": "stream",
     "text": [
      "completed load sequence 01 data\n"
     ]
    }
   ],
   "source": [
    "kitti_data = KITTIdata(basedir, \n",
    "                       sequences = ['01'],\n",
    "                       sequence_len = num_steps,\n",
    "                       val_frac = 0,\n",
    "                       test_frac = 0,\n",
    "                       img_size=(150,50))"
   ]
  },
  {
   "cell_type": "code",
   "execution_count": 7,
   "metadata": {},
   "outputs": [],
   "source": [
    "mean_velo = np.mean(kitti_data.velocities['01'],axis = 0)\n",
    "std_velo = np.std(kitti_data.velocities['01'],axis = 0)\n",
    "\n",
    "mean_poses = np.mean(kitti_data.poses['01'],axis = 0)\n",
    "std_poses = np.std(kitti_data.poses['01'],axis = 0)"
   ]
  },
  {
   "cell_type": "code",
   "execution_count": 8,
   "metadata": {
    "collapsed": true
   },
   "outputs": [],
   "source": [
    "kitti_data.velocities['01'] = kitti_data.velocities['01']-mean_velo\n",
    "kitti_data.velocities['01'] /= std_velo"
   ]
  },
  {
   "cell_type": "code",
   "execution_count": 9,
   "metadata": {},
   "outputs": [],
   "source": [
    "kitti_data.poses['01'] = kitti_data.poses['01']-mean_poses\n",
    "kitti_data.poses['01'] /= std_poses"
   ]
  },
  {
   "cell_type": "code",
   "execution_count": 10,
   "metadata": {},
   "outputs": [
    {
     "name": "stdout",
     "output_type": "stream",
     "text": [
      "output size (256, 8, 128)\n",
      "seq_output shape (256, 8, 128)\n",
      "x (2048, 128)\n",
      "mse_w (128, 3)\n",
      "shape of logits (256, 8, 3)\n",
      "shape of targets (256, 8, 3)\n",
      "step: 500  loss: 0.4441  0.1077 sec/batch\n",
      "step: 1000  loss: 0.3274  0.0987 sec/batch\n",
      "step: 1500  loss: 0.3460  0.1067 sec/batch\n",
      "step: 2000  loss: 0.2915  0.1018 sec/batch\n",
      "step: 2500  loss: 0.2892  0.1017 sec/batch\n",
      "step: 3000  loss: 0.2743  0.0987 sec/batch\n",
      "step: 3500  loss: 0.2560  0.1207 sec/batch\n",
      "step: 4000  loss: 0.2645  0.0967 sec/batch\n",
      "step: 4500  loss: 0.2799  0.0997 sec/batch\n",
      "step: 5000  loss: 0.2642  0.1077 sec/batch\n",
      "step: 5500  loss: 0.2376  0.0987 sec/batch\n",
      "step: 6000  loss: 0.2492  0.1067 sec/batch\n",
      "step: 6500  loss: 0.2594  0.1028 sec/batch\n",
      "step: 7000  loss: 0.2318  0.0917 sec/batch\n",
      "step: 7500  loss: 0.2344  0.1087 sec/batch\n",
      "step: 8000  loss: 0.1997  0.1027 sec/batch\n",
      "step: 8500  loss: 0.2357  0.1217 sec/batch\n",
      "step: 9000  loss: 0.2194  0.1047 sec/batch\n",
      "step: 9500  loss: 0.2252  0.0997 sec/batch\n",
      "step: 10000  loss: 0.2103  0.1087 sec/batch\n"
     ]
    }
   ],
   "source": [
    "model = OdomModel(batch_size = 256, \n",
    "                  num_steps = 8,\n",
    "                  cell_type = 'GRU',\n",
    "                  rnn_size = 128,\n",
    "                  num_layers = 2,\n",
    "                  learning_rate = 0.001)\n",
    "model.train(kitti_data, max_count = 10000, save_every_n = 1000)"
   ]
  },
  {
   "cell_type": "code",
   "execution_count": null,
   "metadata": {
    "collapsed": true
   },
   "outputs": [],
   "source": [
    "kitti_data.dataset_len['01']"
   ]
  },
  {
   "cell_type": "code",
   "execution_count": null,
   "metadata": {
    "collapsed": true
   },
   "outputs": [],
   "source": [
    "inputs_train, velocities_train, poses_train = kitti_data.load_data_train()"
   ]
  },
  {
   "cell_type": "code",
   "execution_count": null,
   "metadata": {
    "collapsed": true
   },
   "outputs": [],
   "source": [
    "inputs_train.shape"
   ]
  },
  {
   "cell_type": "code",
   "execution_count": null,
   "metadata": {
    "collapsed": true
   },
   "outputs": [],
   "source": []
  }
 ],
 "metadata": {
  "kernelspec": {
   "display_name": "Python 3",
   "language": "python",
   "name": "python3"
  },
  "language_info": {
   "codemirror_mode": {
    "name": "ipython",
    "version": 3
   },
   "file_extension": ".py",
   "mimetype": "text/x-python",
   "name": "python",
   "nbconvert_exporter": "python",
   "pygments_lexer": "ipython3",
   "version": "3.6.3"
  }
 },
 "nbformat": 4,
 "nbformat_minor": 2
}
