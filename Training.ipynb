{
 "cells": [
  {
   "cell_type": "code",
   "execution_count": 1,
   "metadata": {},
   "outputs": [],
   "source": [
    "% matplotlib inline\n",
    "% load_ext autoreload\n",
    "% autoreload 2"
   ]
  },
  {
   "cell_type": "code",
   "execution_count": 2,
   "metadata": {},
   "outputs": [],
   "source": [
    "from __future__ import print_function\n",
    "import tensorflow as tf\n",
    "import numpy as np\n",
    "from deep_visual_odometry.kitti_utils import KITTIdata\n",
    "from matplotlib import pyplot as plt"
   ]
  },
  {
   "cell_type": "code",
   "execution_count": 3,
   "metadata": {},
   "outputs": [
    {
     "name": "stdout",
     "output_type": "stream",
     "text": [
      "completed load sequence 00 data\n",
      "completed load sequence 01 data\n"
     ]
    }
   ],
   "source": [
    "basedir = 'dataset'\n",
    "kitti_data = KITTIdata(basedir, sequences = ['00','01'], img_size=(150,50))"
   ]
  },
  {
   "cell_type": "code",
   "execution_count": 4,
   "metadata": {},
   "outputs": [],
   "source": [
    "inputs, velocities = kitti_data.load_data_input_model()"
   ]
  },
  {
   "cell_type": "code",
   "execution_count": 5,
   "metadata": {},
   "outputs": [
    {
     "name": "stdout",
     "output_type": "stream",
     "text": [
      "(5076, 50, 150, 6)\n",
      "(5076, 2)\n",
      "<class 'numpy.float64'>\n",
      "(564, 50, 150, 6)\n",
      "(564, 2)\n"
     ]
    }
   ],
   "source": [
    "np.random.seed(100)\n",
    "mask = np.arange(inputs.shape[0])\n",
    "np.random.shuffle(mask)\n",
    "inputs = inputs[mask]\n",
    "velocities = velocities[mask]\n",
    "num_validation = int(inputs.shape[0]/10)\n",
    "num_training = inputs.shape[0] - num_validation\n",
    "\n",
    "X_train, y_train = inputs[:num_training], velocities[:num_training]\n",
    "X_val, y_val = inputs[num_training:], velocities[num_training:]\n",
    "\n",
    "mean_image = np.mean(X_train, axis=0)\n",
    "X_train = X_train.astype(np.float32) - mean_image.astype(np.float32)\n",
    "X_val = X_val.astype(np.float32) - mean_image\n",
    "\n",
    "X_train /= 255\n",
    "X_val /= 255\n",
    "\n",
    "print(X_train.shape)\n",
    "print(y_train.shape)\n",
    "print(type(y_train[0,0]))\n",
    "print(X_val.shape)\n",
    "print(y_val.shape)"
   ]
  },
  {
   "cell_type": "code",
   "execution_count": 8,
   "metadata": {},
   "outputs": [
    {
     "name": "stdout",
     "output_type": "stream",
     "text": [
      "Building velocity CNN. Parameters: \n",
      "conv_featmap=[16, 16, 16, 16]\n",
      "fc_units=[128, 128]\n",
      "conv_kernel_size=[7, 5, 5, 5]\n",
      "pooling_size=[2, 2, 2, 2]\n",
      "l2_norm=0.01\n",
      "seed=235\n",
      "learning_rate=0.01\n",
      "number of batches for training: 203\n",
      "epoch 1 \n",
      "Best validation mse! iteration:100 accuracy: 0.05740148201584816\n",
      "epoch 2 \n",
      "Best validation mse! iteration:300 accuracy: 0.052680667489767075\n",
      "epoch 3 \n",
      "Best validation mse! iteration:500 accuracy: 0.047352179884910583\n",
      "epoch 4 \n",
      "Best validation mse! iteration:700 accuracy: 0.04671459645032883\n",
      "Best validation mse! iteration:800 accuracy: 0.04074319079518318\n",
      "epoch 5 \n",
      "Best validation mse! iteration:1000 accuracy: 0.04008011519908905\n",
      "epoch 6 \n",
      "epoch 7 \n",
      "epoch 8 \n",
      "epoch 9 \n",
      "epoch 10 \n",
      "epoch 11 \n",
      "epoch 12 \n",
      "epoch 13 \n",
      "Best validation mse! iteration:2600 accuracy: 0.04006853327155113\n",
      "epoch 14 \n",
      "epoch 15 \n",
      "epoch 16 \n",
      "epoch 17 \n",
      "Best validation mse! iteration:3300 accuracy: 0.036584869027137756\n",
      "epoch 18 \n",
      "epoch 19 \n",
      "epoch 20 \n",
      "Traning ends. The best valid accuracy is 0.036584869027137756. Model named CNN_Velocity_Model.\n"
     ]
    }
   ],
   "source": [
    "from deep_visual_odometry.input_model import training\n",
    "tf.reset_default_graph()\n",
    "training(X_train, y_train, X_val, y_val, \n",
    "         conv_featmap=[16,16,16,16],\n",
    "         fc_units=[128,128],\n",
    "         conv_kernel_size=[7,5,5,5],\n",
    "         pooling_size=[2,2,2,2],\n",
    "         l2_norm=0.01,\n",
    "         seed=235,\n",
    "         learning_rate=1e-2,\n",
    "         epoch=20,\n",
    "         batch_size=25,\n",
    "         verbose=False,\n",
    "         pre_trained_model=None)"
   ]
  },
  {
   "cell_type": "code",
   "execution_count": 11,
   "metadata": {},
   "outputs": [
    {
     "name": "stdout",
     "output_type": "stream",
     "text": [
      "(2, 50, 150, 6)\n",
      "INFO:tensorflow:Restoring parameters from model/CNN_Velocity_Model\n",
      "[[ 1.2816603 -1.0440965]\n",
      " [ 0.9004614 -1.0440965]]\n",
      "[[0.93924007 0.00172781]\n",
      " [0.5949605  0.0037615 ]]\n"
     ]
    }
   ],
   "source": [
    "from deep_visual_odometry.input_model import test_input_model\n",
    "print(X_val[0:2].shape)\n",
    "out = test_input_model(\"CNN_Velocity_Model\",X_val[0:2],y_val[0:2])\n",
    "print(out)\n",
    "print(y_val[0:2])"
   ]
  },
  {
   "cell_type": "code",
   "execution_count": null,
   "metadata": {},
   "outputs": [],
   "source": []
  }
 ],
 "metadata": {
  "kernelspec": {
   "display_name": "Python 3",
   "language": "python",
   "name": "python3"
  },
  "language_info": {
   "codemirror_mode": {
    "name": "ipython",
    "version": 3
   },
   "file_extension": ".py",
   "mimetype": "text/x-python",
   "name": "python",
   "nbconvert_exporter": "python",
   "pygments_lexer": "ipython3",
   "version": "3.6.5"
  }
 },
 "nbformat": 4,
 "nbformat_minor": 2
}
