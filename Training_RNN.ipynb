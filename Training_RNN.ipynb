{
 "cells": [
  {
   "cell_type": "code",
   "execution_count": 52,
   "metadata": {},
   "outputs": [
    {
     "name": "stdout",
     "output_type": "stream",
     "text": [
      "The autoreload extension is already loaded. To reload it, use:\n",
      "  %reload_ext autoreload\n"
     ]
    }
   ],
   "source": [
    "% matplotlib inline\n",
    "% load_ext autoreload\n",
    "% autoreload 2"
   ]
  },
  {
   "cell_type": "code",
   "execution_count": 50,
   "metadata": {},
   "outputs": [],
   "source": [
    "from __future__ import print_function\n",
    "import tensorflow as tf\n",
    "import numpy as np\n",
    "from deep_visual_odometry.kitti_utils import KITTIdata\n",
    "from matplotlib import pyplot as plt"
   ]
  },
  {
   "cell_type": "code",
   "execution_count": 53,
   "metadata": {},
   "outputs": [],
   "source": [
    "basedir = 'dataset'"
   ]
  },
  {
   "cell_type": "code",
   "execution_count": 54,
   "metadata": {},
   "outputs": [],
   "source": [
    "from deep_visual_odometry.odometry_model import OdomModel"
   ]
  },
  {
   "cell_type": "code",
   "execution_count": 55,
   "metadata": {},
   "outputs": [],
   "source": [
    "batch_size = 256         # Sequences per batch\n",
    "num_steps = 8         # Number of sequence steps per batch\n",
    "rnn_size = 64          # Size of hidden layers in rnn_cell\n",
    "num_layers = 2           # Number of hidden layers\n",
    "learning_rate = 0.001"
   ]
  },
  {
   "cell_type": "code",
   "execution_count": 56,
   "metadata": {},
   "outputs": [
    {
     "name": "stdout",
     "output_type": "stream",
     "text": [
      "completed load sequence 00 data\n",
      "completed load sequence 01 data\n"
     ]
    }
   ],
   "source": [
    "kitti_data = KITTIdata(basedir, \n",
    "                       sequences = ['00', '01'],\n",
    "                       sequence_len = num_steps,\n",
    "                       val_frac = 0,\n",
    "                       test_frac = 0,\n",
    "                       img_size=(150,50))"
   ]
  },
  {
   "cell_type": "code",
   "execution_count": 57,
   "metadata": {},
   "outputs": [
    {
     "name": "stdout",
     "output_type": "stream",
     "text": [
      "normalized data\n"
     ]
    }
   ],
   "source": [
    "kitti_data.normalize()"
   ]
  },
  {
   "cell_type": "code",
   "execution_count": 58,
   "metadata": {},
   "outputs": [],
   "source": [
    "inputs, inter_inputs, targets = kitti_data.get_series_batch_train(batch_size = 256)"
   ]
  },
  {
   "cell_type": "code",
   "execution_count": 63,
   "metadata": {},
   "outputs": [
    {
     "name": "stdout",
     "output_type": "stream",
     "text": [
      "output size (256, 8, 128)\n",
      "seq_output shape (256, 8, 128)\n",
      "shape of outputs (256, 8, 3)\n",
      "shape of targets (256, 8, 3)\n",
      "step: 5  loss: 0.4266  0.5623 sec/batch\n",
      "step: 10  loss: 0.4138  0.5595 sec/batch\n",
      "step: 15  loss: 0.3614  0.5585 sec/batch\n",
      "step: 20  loss: 0.3186  0.5598 sec/batch\n",
      "step: 25  loss: 0.2962  0.5581 sec/batch\n",
      "step: 30  loss: 0.2769  0.5641 sec/batch\n",
      "step: 35  loss: 0.2464  0.5604 sec/batch\n",
      "step: 40  loss: 0.2269  0.5638 sec/batch\n",
      "step: 45  loss: 0.2158  0.5577 sec/batch\n",
      "step: 50  loss: 0.2075  0.5621 sec/batch\n",
      "step: 55  loss: 0.1938  0.5641 sec/batch\n",
      "step: 60  loss: 0.1806  0.6598 sec/batch\n",
      "step: 65  loss: 0.1836  0.5993 sec/batch\n",
      "step: 70  loss: 0.1807  0.5618 sec/batch\n",
      "step: 75  loss: 0.1622  0.5632 sec/batch\n",
      "step: 80  loss: 0.1607  0.5688 sec/batch\n",
      "step: 85  loss: 0.1549  0.5779 sec/batch\n",
      "step: 90  loss: 0.1474  0.5660 sec/batch\n",
      "step: 95  loss: 0.1431  0.6097 sec/batch\n",
      "step: 100  loss: 0.1474  0.5825 sec/batch\n",
      "step: 105  loss: 0.1461  0.6027 sec/batch\n",
      "step: 110  loss: 0.1351  0.5629 sec/batch\n",
      "step: 115  loss: 0.1330  0.6273 sec/batch\n",
      "step: 120  loss: 0.1321  0.5677 sec/batch\n",
      "step: 125  loss: 0.1262  0.5694 sec/batch\n",
      "step: 130  loss: 0.1261  0.5692 sec/batch\n",
      "step: 135  loss: 0.1285  0.6024 sec/batch\n",
      "step: 140  loss: 0.1255  0.5734 sec/batch\n",
      "step: 145  loss: 0.1189  0.5806 sec/batch\n",
      "step: 150  loss: 0.1184  0.5834 sec/batch\n",
      "step: 155  loss: 0.1215  0.5801 sec/batch\n",
      "step: 160  loss: 0.1144  0.5820 sec/batch\n",
      "step: 165  loss: 0.1136  0.5830 sec/batch\n",
      "step: 170  loss: 0.1151  0.5767 sec/batch\n",
      "step: 175  loss: 0.1112  0.5911 sec/batch\n",
      "step: 180  loss: 0.1123  0.5689 sec/batch\n",
      "step: 185  loss: 0.1124  0.5733 sec/batch\n",
      "step: 190  loss: 0.1139  0.5773 sec/batch\n",
      "step: 195  loss: 0.1058  0.5986 sec/batch\n",
      "step: 200  loss: 0.1061  0.5968 sec/batch\n",
      "step: 205  loss: 0.1074  0.5701 sec/batch\n",
      "step: 210  loss: 0.1057  0.5827 sec/batch\n",
      "step: 215  loss: 0.1112  0.6142 sec/batch\n",
      "step: 220  loss: 0.1037  0.5730 sec/batch\n",
      "step: 225  loss: 0.1047  0.5695 sec/batch\n",
      "step: 230  loss: 0.1015  0.5713 sec/batch\n",
      "step: 235  loss: 0.0973  0.5759 sec/batch\n",
      "step: 240  loss: 0.1024  0.5721 sec/batch\n",
      "step: 245  loss: 0.0985  0.5688 sec/batch\n",
      "step: 250  loss: 0.1038  0.6342 sec/batch\n"
     ]
    }
   ],
   "source": [
    "model = OdomModel(batch_size = 256, \n",
    "                  num_steps = 8,\n",
    "                  cell_type = 'GRU',\n",
    "                  rnn_size = 128,\n",
    "                  num_layers = 2,\n",
    "                  learning_rate = 0.001)\n",
    "model.train(kitti_data, max_count = 250, save_every_n = 1000, sequences = ['00'])"
   ]
  },
  {
   "cell_type": "code",
   "execution_count": 16,
   "metadata": {},
   "outputs": [],
   "source": [
    "#inputs_test, interinputs_test, targets_test = kitti_data.load_all_sequences(mode = 'train', sequences = ['01'])"
   ]
  },
  {
   "cell_type": "code",
   "execution_count": 64,
   "metadata": {},
   "outputs": [
    {
     "name": "stdout",
     "output_type": "stream",
     "text": [
      "output size (1, 1, 128)\n",
      "seq_output shape (1, 1, 128)\n",
      "shape of outputs (1, 1, 3)\n",
      "shape of targets (1, 1, 3)\n"
     ]
    }
   ],
   "source": [
    "model = OdomModel(batch_size = 256, \n",
    "                  num_steps = 8,\n",
    "                  cell_type = 'GRU',\n",
    "                  rnn_size = 128,\n",
    "                  num_layers = 2,\n",
    "                  learning_rate = 0.001,\n",
    "                  sampling = True)"
   ]
  },
  {
   "cell_type": "code",
   "execution_count": 75,
   "metadata": {},
   "outputs": [
    {
     "data": {
      "text/plain": [
       "(1100, 5)"
      ]
     },
     "execution_count": 75,
     "metadata": {},
     "output_type": "execute_result"
    }
   ],
   "source": [
    "inputs, inter_inputs, targets = kitti_data.get_full_sequence(sequence = '01')\n",
    "inter_inputs.shape"
   ]
  },
  {
   "cell_type": "code",
   "execution_count": 89,
   "metadata": {},
   "outputs": [
    {
     "name": "stdout",
     "output_type": "stream",
     "text": [
      "INFO:tensorflow:Restoring parameters from checkpoints/i251_l128.ckpt\n"
     ]
    },
    {
     "data": {
      "text/plain": [
       "(1100, 3)"
      ]
     },
     "execution_count": 89,
     "metadata": {},
     "output_type": "execute_result"
    }
   ],
   "source": [
    "checkpoint = tf.train.latest_checkpoint('checkpoints')\n",
    "predictions = model.test(checkpoint, inter_inputs, priming_len = 100)\n",
    "predictions.shape"
   ]
  },
  {
   "cell_type": "code",
   "execution_count": 90,
   "metadata": {},
   "outputs": [
    {
     "data": {
      "image/png": "[encoded data removed]",
      "text/plain": [
       "<Figure size 432x288 with 1 Axes>"
      ]
     },
     "metadata": {
      "needs_background": "light"
     },
     "output_type": "display_data"
    }
   ],
   "source": [
    "i = 0\n",
    "j = 1\n",
    "plt.plot(predictions[:,j],label = 'pred')\n",
    "plt.plot(targets[:,j],label = 'targets')\n",
    "plt.legend()\n",
    "plt.show()"
   ]
  },
  {
   "cell_type": "code",
   "execution_count": null,
   "metadata": {},
   "outputs": [],
   "source": []
  }
 ],
 "metadata": {
  "kernelspec": {
   "display_name": "Python 3",
   "language": "python",
   "name": "python3"
  },
  "language_info": {
   "codemirror_mode": {
    "name": "ipython",
    "version": 3
   },
   "file_extension": ".py",
   "mimetype": "text/x-python",
   "name": "python",
   "nbconvert_exporter": "python",
   "pygments_lexer": "ipython3",
   "version": "3.6.7"
  }
 },
 "nbformat": 4,
 "nbformat_minor": 2
}
