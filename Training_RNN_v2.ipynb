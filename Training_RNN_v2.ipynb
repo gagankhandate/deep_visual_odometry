{
 "cells": [
  {
   "cell_type": "code",
   "execution_count": 2,
   "metadata": {},
   "outputs": [
    {
     "name": "stdout",
     "output_type": "stream",
     "text": [
      "The autoreload extension is already loaded. To reload it, use:\n",
      "  %reload_ext autoreload\n"
     ]
    }
   ],
   "source": [
    "% matplotlib inline\n",
    "% load_ext autoreload\n",
    "% autoreload 2"
   ]
  },
  {
   "cell_type": "code",
   "execution_count": 3,
   "metadata": {},
   "outputs": [],
   "source": [
    "from __future__ import print_function\n",
    "import tensorflow as tf\n",
    "import numpy as np\n",
    "from deep_visual_odometry.kitti_utils import KITTIdata\n",
    "from matplotlib import pyplot as plt\n",
    "import pickle"
   ]
  },
  {
   "cell_type": "code",
   "execution_count": 4,
   "metadata": {},
   "outputs": [],
   "source": [
    "basedir = 'dataset'"
   ]
  },
  {
   "cell_type": "code",
   "execution_count": 10,
   "metadata": {},
   "outputs": [],
   "source": [
    "from deep_visual_odometry.odometry_model_v2 import OdomModelV2"
   ]
  },
  {
   "cell_type": "code",
   "execution_count": 6,
   "metadata": {},
   "outputs": [],
   "source": [
    "batch_size = 256         # Sequences per batch\n",
    "num_steps = 16         # Number of sequence steps per batch\n",
    "rnn_size = 128          # Size of hidden layers in rnn_cell\n",
    "num_layers = 4           # Number of hidden layers\n",
    "learning_rate = 0.001   #learning rate"
   ]
  },
  {
   "cell_type": "code",
   "execution_count": 8,
   "metadata": {},
   "outputs": [
    {
     "name": "stdout",
     "output_type": "stream",
     "text": [
      "completed load sequence 01 data\n"
     ]
    }
   ],
   "source": [
    "kitti_data = KITTIdata(basedir, \n",
    "                       sequences = ['01'],\n",
    "                       sequence_len = num_steps,\n",
    "                       val_frac = 0,\n",
    "                       test_frac = 0,\n",
    "                       img_size=(150,50))"
   ]
  },
  {
   "cell_type": "code",
   "execution_count": 9,
   "metadata": {},
   "outputs": [
    {
     "name": "stdout",
     "output_type": "stream",
     "text": [
      "normalized data\n"
     ]
    }
   ],
   "source": [
    "kitti_data.normalize()"
   ]
  },
  {
   "cell_type": "code",
   "execution_count": 44,
   "metadata": {},
   "outputs": [
    {
     "name": "stdout",
     "output_type": "stream",
     "text": [
      "created multi layer rnn cell\n",
      "rolled out cell for num_steps \n",
      "reshaped outputs\n",
      "shape of outputs (256, 16, 3)\n",
      "shape of targets (256, 16, 3)\n",
      "odometry model initialized\n"
     ]
    }
   ],
   "source": [
    "model = OdomModelV2(batch_size = batch_size, \n",
    "                  num_steps = num_steps,\n",
    "                  cell_type = 'GRU',\n",
    "                  rnn_size = rnn_size,\n",
    "                  num_layers = num_layers,\n",
    "                  learning_rate = learning_rate)"
   ]
  },
  {
   "cell_type": "code",
   "execution_count": 45,
   "metadata": {},
   "outputs": [
    {
     "name": "stdout",
     "output_type": "stream",
     "text": [
      "training .. \n",
      "step: 1  loss: 0.8615  17.6881 sec/batch\n",
      "step: 2  loss: 0.7449  0.8228 sec/batch\n",
      "step: 3  loss: 0.8002  0.8122 sec/batch\n",
      "step: 4  loss: 0.7321  0.8216 sec/batch\n",
      "step: 5  loss: 0.7142  0.8112 sec/batch\n",
      "step: 6  loss: 0.6660  0.8162 sec/batch\n",
      "step: 7  loss: 0.6483  0.8173 sec/batch\n",
      "step: 8  loss: 0.6212  0.8113 sec/batch\n",
      "step: 9  loss: 0.5451  0.8182 sec/batch\n",
      "step: 10  loss: 0.5748  0.8192 sec/batch\n",
      "step: 11  loss: 0.5710  0.8200 sec/batch\n",
      "step: 12  loss: 0.5837  0.8312 sec/batch\n",
      "step: 13  loss: 0.5152  0.8177 sec/batch\n",
      "step: 14  loss: 0.5367  0.8232 sec/batch\n",
      "step: 15  loss: 0.5165  0.8111 sec/batch\n",
      "step: 16  loss: 0.5699  0.8201 sec/batch\n",
      "step: 17  loss: 0.5124  0.8097 sec/batch\n",
      "step: 18  loss: 0.5464  0.8107 sec/batch\n",
      "step: 19  loss: 0.4808  0.8121 sec/batch\n",
      "step: 20  loss: 0.5346  0.8135 sec/batch\n",
      "step: 21  loss: 0.4916  0.8214 sec/batch\n",
      "step: 22  loss: 0.4964  0.8151 sec/batch\n",
      "step: 23  loss: 0.4886  0.8185 sec/batch\n",
      "step: 24  loss: 0.5014  0.8204 sec/batch\n",
      "step: 25  loss: 0.4972  0.8112 sec/batch\n",
      "step: 26  loss: 0.4701  0.8135 sec/batch\n",
      "step: 27  loss: 0.4572  0.8163 sec/batch\n",
      "step: 28  loss: 0.4634  0.8179 sec/batch\n",
      "step: 29  loss: 0.4976  0.8201 sec/batch\n",
      "step: 30  loss: 0.4421  0.8163 sec/batch\n",
      "step: 31  loss: 0.4527  0.8234 sec/batch\n",
      "step: 32  loss: 0.4369  0.8177 sec/batch\n",
      "step: 33  loss: 0.4566  0.8181 sec/batch\n",
      "step: 34  loss: 0.4159  0.8227 sec/batch\n",
      "step: 35  loss: 0.4464  0.8124 sec/batch\n",
      "step: 36  loss: 0.4015  0.8168 sec/batch\n",
      "step: 37  loss: 0.4391  0.8214 sec/batch\n",
      "step: 38  loss: 0.3999  0.8398 sec/batch\n",
      "step: 39  loss: 0.4163  0.8525 sec/batch\n",
      "step: 40  loss: 0.3939  0.8308 sec/batch\n",
      "step: 41  loss: 0.4148  0.8148 sec/batch\n",
      "step: 42  loss: 0.4086  0.8188 sec/batch\n",
      "step: 43  loss: 0.3930  0.8171 sec/batch\n",
      "step: 44  loss: 0.3828  0.8173 sec/batch\n",
      "step: 45  loss: 0.3858  0.8159 sec/batch\n",
      "step: 46  loss: 0.4047  0.8164 sec/batch\n",
      "step: 47  loss: 0.3622  0.8177 sec/batch\n",
      "step: 48  loss: 0.3738  0.8173 sec/batch\n",
      "step: 49  loss: 0.3665  0.8151 sec/batch\n",
      "step: 50  loss: 0.3850  0.8159 sec/batch\n",
      "step: 51  loss: 0.3524  0.8299 sec/batch\n",
      "step: 52  loss: 0.3770  0.8259 sec/batch\n",
      "step: 53  loss: 0.3413  0.8455 sec/batch\n",
      "step: 54  loss: 0.3786  0.8268 sec/batch\n",
      "step: 55  loss: 0.3366  0.8337 sec/batch\n",
      "step: 56  loss: 0.3626  0.8343 sec/batch\n",
      "step: 57  loss: 0.3186  0.8388 sec/batch\n",
      "step: 58  loss: 0.3664  0.8240 sec/batch\n",
      "step: 59  loss: 0.3486  0.8268 sec/batch\n",
      "step: 60  loss: 0.3417  0.8296 sec/batch\n",
      "step: 61  loss: 0.3297  0.8466 sec/batch\n",
      "step: 62  loss: 0.3309  0.8207 sec/batch\n",
      "step: 63  loss: 0.3512  0.8310 sec/batch\n",
      "step: 64  loss: 0.3227  0.8719 sec/batch\n",
      "step: 65  loss: 0.3239  0.8428 sec/batch\n",
      "step: 66  loss: 0.3230  0.8355 sec/batch\n",
      "step: 67  loss: 0.3385  0.8198 sec/batch\n",
      "step: 68  loss: 0.3165  0.8120 sec/batch\n",
      "step: 69  loss: 0.3201  0.8117 sec/batch\n",
      "step: 70  loss: 0.3043  0.8108 sec/batch\n",
      "step: 71  loss: 0.3372  0.8109 sec/batch\n",
      "step: 72  loss: 0.2973  0.8151 sec/batch\n",
      "step: 73  loss: 0.3240  0.8204 sec/batch\n",
      "step: 74  loss: 0.2861  0.8219 sec/batch\n",
      "step: 75  loss: 0.3231  0.8151 sec/batch\n",
      "step: 76  loss: 0.3026  0.8163 sec/batch\n",
      "step: 77  loss: 0.3050  0.8144 sec/batch\n",
      "step: 78  loss: 0.2824  0.8122 sec/batch\n",
      "step: 79  loss: 0.3008  0.8137 sec/batch\n",
      "step: 80  loss: 0.3069  0.8131 sec/batch\n",
      "step: 81  loss: 0.2921  0.8136 sec/batch\n",
      "step: 82  loss: 0.2860  0.8261 sec/batch\n",
      "step: 83  loss: 0.2845  0.8288 sec/batch\n",
      "step: 84  loss: 0.3039  0.8183 sec/batch\n",
      "step: 85  loss: 0.2804  0.8199 sec/batch\n",
      "step: 86  loss: 0.2891  0.8332 sec/batch\n",
      "step: 87  loss: 0.2741  0.8520 sec/batch\n",
      "step: 88  loss: 0.2992  0.8561 sec/batch\n",
      "step: 89  loss: 0.2629  0.8455 sec/batch\n",
      "step: 90  loss: 0.2827  0.8930 sec/batch\n",
      "step: 91  loss: 0.2574  0.8409 sec/batch\n",
      "step: 92  loss: 0.2928  0.8180 sec/batch\n",
      "step: 93  loss: 0.2696  0.8212 sec/batch\n",
      "step: 94  loss: 0.2698  0.8173 sec/batch\n",
      "step: 95  loss: 0.2544  0.8155 sec/batch\n",
      "step: 96  loss: 0.2703  0.8112 sec/batch\n",
      "step: 97  loss: 0.2774  0.8145 sec/batch\n",
      "step: 98  loss: 0.2564  0.8137 sec/batch\n",
      "step: 99  loss: 0.2494  0.8131 sec/batch\n",
      "step: 100  loss: 0.2500  0.8301 sec/batch\n",
      "step: 101  loss: 0.2696  0.8106 sec/batch\n",
      "step: 102  loss: 0.2452  0.8213 sec/batch\n",
      "step: 103  loss: 0.2546  0.8143 sec/batch\n",
      "step: 104  loss: 0.2442  0.8148 sec/batch\n",
      "step: 105  loss: 0.2637  0.8116 sec/batch\n",
      "step: 106  loss: 0.2352  0.8081 sec/batch\n",
      "step: 107  loss: 0.2562  0.8199 sec/batch\n",
      "step: 108  loss: 0.2281  0.8168 sec/batch\n",
      "step: 109  loss: 0.2550  0.8093 sec/batch\n",
      "step: 110  loss: 0.2394  0.8133 sec/batch\n",
      "step: 111  loss: 0.2470  0.8095 sec/batch\n",
      "step: 112  loss: 0.2234  0.8123 sec/batch\n",
      "step: 113  loss: 0.2436  0.8145 sec/batch\n",
      "step: 114  loss: 0.2513  0.8199 sec/batch\n",
      "step: 115  loss: 0.2333  0.8120 sec/batch\n",
      "step: 116  loss: 0.2237  0.8214 sec/batch\n",
      "step: 117  loss: 0.2273  0.8101 sec/batch\n",
      "step: 118  loss: 0.2450  0.8098 sec/batch\n",
      "step: 119  loss: 0.2181  0.8113 sec/batch\n",
      "step: 120  loss: 0.2270  0.8090 sec/batch\n",
      "step: 121  loss: 0.2204  0.8162 sec/batch\n",
      "step: 122  loss: 0.2377  0.8106 sec/batch\n",
      "step: 123  loss: 0.2177  0.8150 sec/batch\n",
      "step: 124  loss: 0.2298  0.8149 sec/batch\n",
      "step: 125  loss: 0.2106  0.8252 sec/batch\n",
      "step: 126  loss: 0.2385  0.8194 sec/batch\n",
      "step: 127  loss: 0.2077  0.8088 sec/batch\n",
      "step: 128  loss: 0.2257  0.8448 sec/batch\n",
      "step: 129  loss: 0.2041  0.8520 sec/batch\n",
      "step: 130  loss: 0.2215  0.8477 sec/batch\n",
      "step: 131  loss: 0.2221  0.8646 sec/batch\n",
      "step: 132  loss: 0.2131  0.8414 sec/batch\n",
      "step: 133  loss: 0.2055  0.8290 sec/batch\n",
      "step: 134  loss: 0.2096  0.8425 sec/batch\n",
      "step: 135  loss: 0.2216  0.8204 sec/batch\n",
      "step: 136  loss: 0.2070  0.8285 sec/batch\n",
      "step: 137  loss: 0.2083  0.8278 sec/batch\n",
      "step: 138  loss: 0.2046  0.8275 sec/batch\n",
      "step: 139  loss: 0.2196  0.8213 sec/batch\n",
      "step: 140  loss: 0.2019  0.8152 sec/batch\n",
      "step: 141  loss: 0.2068  0.8084 sec/batch\n",
      "step: 142  loss: 0.1929  0.8140 sec/batch\n",
      "step: 143  loss: 0.2250  0.8190 sec/batch\n",
      "step: 144  loss: 0.1872  0.8182 sec/batch\n",
      "step: 145  loss: 0.2103  0.8146 sec/batch\n",
      "step: 146  loss: 0.1828  0.8127 sec/batch\n",
      "step: 147  loss: 0.2112  0.8150 sec/batch\n",
      "step: 148  loss: 0.2020  0.8129 sec/batch\n",
      "step: 149  loss: 0.1974  0.8134 sec/batch\n",
      "step: 150  loss: 0.1828  0.8139 sec/batch\n",
      "step: 151  loss: 0.1961  0.8079 sec/batch\n",
      "step: 152  loss: 0.2028  0.8133 sec/batch\n",
      "step: 153  loss: 0.1940  0.8144 sec/batch\n",
      "step: 154  loss: 0.1861  0.8152 sec/batch\n",
      "step: 155  loss: 0.1857  0.8132 sec/batch\n",
      "step: 156  loss: 0.2044  0.8137 sec/batch\n",
      "step: 157  loss: 0.1849  0.8202 sec/batch\n",
      "step: 158  loss: 0.1925  0.8126 sec/batch\n",
      "step: 159  loss: 0.1812  0.8229 sec/batch\n",
      "step: 160  loss: 0.2018  0.8475 sec/batch\n",
      "step: 161  loss: 0.1786  0.8301 sec/batch\n",
      "step: 162  loss: 0.1906  0.8371 sec/batch\n",
      "step: 163  loss: 0.1728  0.8536 sec/batch\n",
      "step: 164  loss: 0.1976  0.8155 sec/batch\n",
      "step: 165  loss: 0.1872  0.8216 sec/batch\n",
      "step: 166  loss: 0.1894  0.8156 sec/batch\n",
      "step: 167  loss: 0.1698  0.8194 sec/batch\n",
      "step: 168  loss: 0.1831  0.8170 sec/batch\n",
      "step: 169  loss: 0.1905  0.8159 sec/batch\n",
      "step: 170  loss: 0.1811  0.8167 sec/batch\n",
      "step: 171  loss: 0.1699  0.8218 sec/batch\n",
      "step: 172  loss: 0.1722  0.8126 sec/batch\n",
      "step: 173  loss: 0.1927  0.8152 sec/batch\n",
      "step: 174  loss: 0.1717  0.8250 sec/batch\n",
      "step: 175  loss: 0.1758  0.8144 sec/batch\n",
      "step: 176  loss: 0.1714  0.8143 sec/batch\n",
      "step: 177  loss: 0.1885  0.8176 sec/batch\n",
      "step: 178  loss: 0.1670  0.8185 sec/batch\n",
      "step: 179  loss: 0.1808  0.8068 sec/batch\n",
      "step: 180  loss: 0.1623  0.8095 sec/batch\n",
      "step: 181  loss: 0.1840  0.8083 sec/batch\n",
      "step: 182  loss: 0.1702  0.8084 sec/batch\n",
      "step: 183  loss: 0.1815  0.8121 sec/batch\n",
      "step: 184  loss: 0.1571  0.8163 sec/batch\n",
      "step: 185  loss: 0.1808  0.8118 sec/batch\n",
      "step: 186  loss: 0.1842  0.8104 sec/batch\n",
      "step: 187  loss: 0.1726  0.8113 sec/batch\n",
      "step: 188  loss: 0.1610  0.8130 sec/batch\n",
      "step: 189  loss: 0.1659  0.8195 sec/batch\n",
      "step: 190  loss: 0.1840  0.8150 sec/batch\n",
      "step: 191  loss: 0.1639  0.8218 sec/batch\n",
      "step: 192  loss: 0.1692  0.8299 sec/batch\n",
      "step: 193  loss: 0.1654  0.8448 sec/batch\n",
      "step: 194  loss: 0.1821  0.8107 sec/batch\n",
      "step: 195  loss: 0.1620  0.8109 sec/batch\n",
      "step: 196  loss: 0.1714  0.8093 sec/batch\n",
      "step: 197  loss: 0.1580  0.8114 sec/batch\n",
      "step: 198  loss: 0.1829  0.8160 sec/batch\n"
     ]
    },
    {
     "name": "stdout",
     "output_type": "stream",
     "text": [
      "step: 199  loss: 0.1567  0.8147 sec/batch\n",
      "step: 200  loss: 0.1745  0.8318 sec/batch\n",
      "step: 201  loss: 0.1502  0.8072 sec/batch\n",
      "step: 202  loss: 0.1719  0.8094 sec/batch\n",
      "step: 203  loss: 0.1726  0.8071 sec/batch\n",
      "step: 204  loss: 0.1654  0.8081 sec/batch\n",
      "step: 205  loss: 0.1542  0.8171 sec/batch\n",
      "step: 206  loss: 0.1613  0.8238 sec/batch\n",
      "step: 207  loss: 0.1754  0.8309 sec/batch\n",
      "step: 208  loss: 0.1576  0.8212 sec/batch\n",
      "step: 209  loss: 0.1591  0.8132 sec/batch\n",
      "step: 210  loss: 0.1539  0.8096 sec/batch\n",
      "step: 211  loss: 0.1708  0.8161 sec/batch\n",
      "step: 212  loss: 0.1542  0.8083 sec/batch\n",
      "step: 213  loss: 0.1614  0.8066 sec/batch\n",
      "step: 214  loss: 0.1487  0.8105 sec/batch\n",
      "step: 215  loss: 0.1747  0.8184 sec/batch\n",
      "step: 216  loss: 0.1448  0.8249 sec/batch\n",
      "step: 217  loss: 0.1703  0.8204 sec/batch\n",
      "step: 218  loss: 0.1449  0.8320 sec/batch\n",
      "step: 219  loss: 0.1680  0.8173 sec/batch\n",
      "step: 220  loss: 0.1617  0.8179 sec/batch\n",
      "step: 221  loss: 0.1573  0.8129 sec/batch\n",
      "step: 222  loss: 0.1455  0.8174 sec/batch\n",
      "step: 223  loss: 0.1563  0.8152 sec/batch\n",
      "step: 224  loss: 0.1665  0.8160 sec/batch\n",
      "step: 225  loss: 0.1571  0.8107 sec/batch\n",
      "step: 226  loss: 0.1486  0.8228 sec/batch\n",
      "step: 227  loss: 0.1498  0.8299 sec/batch\n",
      "step: 228  loss: 0.1705  0.8228 sec/batch\n",
      "step: 229  loss: 0.1501  0.8230 sec/batch\n",
      "step: 230  loss: 0.1547  0.8248 sec/batch\n",
      "step: 231  loss: 0.1476  0.8230 sec/batch\n",
      "step: 232  loss: 0.1677  0.8221 sec/batch\n",
      "step: 233  loss: 0.1477  0.8196 sec/batch\n",
      "step: 234  loss: 0.1547  0.8205 sec/batch\n",
      "step: 235  loss: 0.1405  0.8260 sec/batch\n",
      "step: 236  loss: 0.1652  0.8225 sec/batch\n",
      "step: 237  loss: 0.1527  0.8181 sec/batch\n",
      "step: 238  loss: 0.1548  0.8175 sec/batch\n",
      "step: 239  loss: 0.1410  0.8208 sec/batch\n",
      "step: 240  loss: 0.1552  0.8205 sec/batch\n",
      "step: 241  loss: 0.1627  0.8208 sec/batch\n",
      "step: 242  loss: 0.1544  0.8262 sec/batch\n",
      "step: 243  loss: 0.1421  0.8490 sec/batch\n",
      "step: 244  loss: 0.1433  0.8158 sec/batch\n",
      "step: 245  loss: 0.1637  0.8200 sec/batch\n",
      "step: 246  loss: 0.1469  0.8128 sec/batch\n",
      "step: 247  loss: 0.1530  0.8107 sec/batch\n",
      "step: 248  loss: 0.1463  0.8227 sec/batch\n",
      "step: 249  loss: 0.1609  0.8289 sec/batch\n",
      "step: 250  loss: 0.1452  0.8105 sec/batch\n",
      "step: 251  loss: 0.1516  0.8199 sec/batch\n"
     ]
    }
   ],
   "source": [
    "loss = model.train(kitti_data, max_count = 250, save_every_n = 50, sequences = ['01'])"
   ]
  },
  {
   "cell_type": "code",
   "execution_count": 46,
   "metadata": {},
   "outputs": [
    {
     "data": {
      "text/plain": [
       "[<matplotlib.lines.Line2D at 0x7effb24640b8>]"
      ]
     },
     "execution_count": 46,
     "metadata": {},
     "output_type": "execute_result"
    },
    {
     "data": {
      "image/png": "[encoded data removed]",
      "text/plain": [
       "<Figure size 432x288 with 1 Axes>"
      ]
     },
     "metadata": {
      "needs_background": "light"
     },
     "output_type": "display_data"
    }
   ],
   "source": [
    "plt.plot(loss)"
   ]
  },
  {
   "cell_type": "code",
   "execution_count": 47,
   "metadata": {},
   "outputs": [
    {
     "name": "stdout",
     "output_type": "stream",
     "text": [
      "created multi layer rnn cell\n",
      "rolled out cell for num_steps \n",
      "reshaped outputs\n",
      "shape of outputs (1, 1, 3)\n",
      "shape of targets (1, 1, 3)\n",
      "odometry model initialized\n"
     ]
    }
   ],
   "source": [
    "model_test = OdomModelV2(batch_size = batch_size, \n",
    "                  num_steps = num_steps,\n",
    "                  cell_type = 'GRU',\n",
    "                  rnn_size = rnn_size,\n",
    "                  num_layers = num_layers,\n",
    "                  learning_rate = learning_rate,\n",
    "                  sampling = True)"
   ]
  },
  {
   "cell_type": "code",
   "execution_count": 48,
   "metadata": {},
   "outputs": [
    {
     "data": {
      "text/plain": [
       "(1100, 5)"
      ]
     },
     "execution_count": 48,
     "metadata": {},
     "output_type": "execute_result"
    }
   ],
   "source": [
    "inputs, inter_inputs, targets = kitti_data.get_full_sequence(sequence = '01')\n",
    "inter_inputs.shape"
   ]
  },
  {
   "cell_type": "code",
   "execution_count": 49,
   "metadata": {},
   "outputs": [
    {
     "name": "stdout",
     "output_type": "stream",
     "text": [
      "INFO:tensorflow:Restoring parameters from checkpoints/i251_l128.ckpt\n"
     ]
    },
    {
     "data": {
      "text/plain": [
       "(1100, 3)"
      ]
     },
     "execution_count": 49,
     "metadata": {},
     "output_type": "execute_result"
    }
   ],
   "source": [
    "checkpoint = tf.train.latest_checkpoint('checkpoints')\n",
    "predictions = model_test.test(checkpoint, inter_inputs)\n",
    "predictions.shape"
   ]
  },
  {
   "cell_type": "code",
   "execution_count": 50,
   "metadata": {},
   "outputs": [
    {
     "data": {
      "image/png": "[encoded data removed]",
      "text/plain": [
       "<Figure size 432x288 with 1 Axes>"
      ]
     },
     "metadata": {
      "needs_background": "light"
     },
     "output_type": "display_data"
    }
   ],
   "source": [
    "j = 0\n",
    "plt.plot(predictions[:,j],label = 'pred x')\n",
    "plt.plot(targets[:,j],label = 'targets x')\n",
    "plt.legend()\n",
    "plt.savefig('x_predictions_RNN_iter1000.jpg')\n",
    "plt.show()"
   ]
  },
  {
   "cell_type": "code",
   "execution_count": 51,
   "metadata": {},
   "outputs": [
    {
     "data": {
      "image/png": "[encoded data removed]",
      "text/plain": [
       "<Figure size 432x288 with 1 Axes>"
      ]
     },
     "metadata": {
      "needs_background": "light"
     },
     "output_type": "display_data"
    }
   ],
   "source": [
    "j = 1\n",
    "plt.plot(predictions[:,j],label = 'pred y')\n",
    "plt.plot(targets[:,j],label = 'targets y')\n",
    "plt.legend()\n",
    "plt.savefig('y_predictions_RNN_iter1000.jpg')\n",
    "plt.show()"
   ]
  },
  {
   "cell_type": "code",
   "execution_count": 52,
   "metadata": {},
   "outputs": [
    {
     "data": {
      "image/png": "[encoded data removed]",
      "text/plain": [
       "<Figure size 432x288 with 1 Axes>"
      ]
     },
     "metadata": {
      "needs_background": "light"
     },
     "output_type": "display_data"
    }
   ],
   "source": [
    "j = 2\n",
    "plt.plot(predictions[:,j],label = 'pred theta')\n",
    "plt.plot(targets[:,j],label = 'targets theta')\n",
    "plt.legend()\n",
    "plt.savefig('theta_predictions_RNN_iter1000.jpg')\n",
    "plt.show()"
   ]
  },
  {
   "cell_type": "code",
   "execution_count": 53,
   "metadata": {},
   "outputs": [
    {
     "data": {
      "text/plain": [
       "Text(0,0.5,'y')"
      ]
     },
     "execution_count": 53,
     "metadata": {},
     "output_type": "execute_result"
    },
    {
     "data": {
      "image/png": "[encoded data removed]",
      "text/plain": [
       "<Figure size 432x288 with 1 Axes>"
      ]
     },
     "metadata": {
      "needs_background": "light"
     },
     "output_type": "display_data"
    }
   ],
   "source": [
    "l = 4540\n",
    "plt.plot(predictions[0:l,0],predictions[0:l,1],label = 'estimate')\n",
    "plt.plot(targets[0:l,0],targets[0:l,1],label = 'ground truth')\n",
    "plt.legend()\n",
    "plt.xlabel('x')\n",
    "plt.ylabel('y')"
   ]
  },
  {
   "cell_type": "code",
   "execution_count": null,
   "metadata": {},
   "outputs": [],
   "source": []
  }
 ],
 "metadata": {
  "kernelspec": {
   "display_name": "Python 3",
   "language": "python",
   "name": "python3"
  },
  "language_info": {
   "codemirror_mode": {
    "name": "ipython",
    "version": 3
   },
   "file_extension": ".py",
   "mimetype": "text/x-python",
   "name": "python",
   "nbconvert_exporter": "python",
   "pygments_lexer": "ipython3",
   "version": "3.6.7"
  }
 },
 "nbformat": 4,
 "nbformat_minor": 2
}
