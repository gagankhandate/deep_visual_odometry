{
 "cells": [
  {
   "cell_type": "code",
   "execution_count": 2,
   "metadata": {},
   "outputs": [],
   "source": [
    "% matplotlib inline\n",
    "% load_ext autoreload\n",
    "% autoreload 2"
   ]
  },
  {
   "cell_type": "code",
   "execution_count": 3,
   "metadata": {},
   "outputs": [],
   "source": [
    "from __future__ import print_function\n",
    "import tensorflow as tf\n",
    "import numpy as np\n",
    "from deep_visual_odometry.kitti_utils import KITTIdata\n",
    "from matplotlib import pyplot as plt\n",
    "import pickle"
   ]
  },
  {
   "cell_type": "code",
   "execution_count": 4,
   "metadata": {},
   "outputs": [],
   "source": [
    "basedir = 'dataset'"
   ]
  },
  {
   "cell_type": "code",
   "execution_count": 5,
   "metadata": {},
   "outputs": [],
   "source": [
    "from deep_visual_odometry.odometry_model import OdomModel"
   ]
  },
  {
   "cell_type": "code",
   "execution_count": 44,
   "metadata": {},
   "outputs": [],
   "source": [
    "batch_size = 312         # Sequences per batch\n",
    "num_steps = 16         # Number of sequence steps per batch\n",
    "rnn_size = 400          # Size of hidden layers in rnn_cell\n",
    "num_layers = 4           # Number of hidden layers\n",
    "learning_rate = 0.001   #learning rate"
   ]
  },
  {
   "cell_type": "code",
   "execution_count": 40,
   "metadata": {},
   "outputs": [
    {
     "name": "stdout",
     "output_type": "stream",
     "text": [
      "completed load sequence 00 data\n",
      "completed load sequence 01 data\n",
      "completed load sequence 02 data\n",
      "completed load sequence 03 data\n",
      "completed load sequence 04 data\n",
      "completed load sequence 05 data\n",
      "completed load sequence 06 data\n",
      "completed load sequence 07 data\n",
      "completed load sequence 08 data\n"
     ]
    }
   ],
   "source": [
    "kitti_data = KITTIdata(basedir, \n",
    "                       sequences = ['00', '01', '02', '03','04','05','06','07','08'],\n",
    "                       sequence_len = num_steps,\n",
    "                       val_frac = 0,\n",
    "                       test_frac = 0,\n",
    "                       img_size=(150,50))"
   ]
  },
  {
   "cell_type": "code",
   "execution_count": 36,
   "metadata": {},
   "outputs": [
    {
     "name": "stdout",
     "output_type": "stream",
     "text": [
      "normalized data\n"
     ]
    }
   ],
   "source": [
    "kitti_data.normalize()"
   ]
  },
  {
   "cell_type": "code",
   "execution_count": 73,
   "metadata": {},
   "outputs": [],
   "source": [
    "def save_obj(obj,filename):\n",
    "    with open(filename, 'wb') as filehandler:\n",
    "        pickle.dump(obj, filehandler)\n",
    "def load_obj(filename):\n",
    "    with open(filename, 'rb') as filehandler:\n",
    "        return pickle.load(filehandler)"
   ]
  },
  {
   "cell_type": "code",
   "execution_count": 171,
   "metadata": {},
   "outputs": [
    {
     "name": "stdout",
     "output_type": "stream",
     "text": [
      "output size (312, 16, 400)\n",
      "seq_output shape (312, 16, 400)\n",
      "shape of outputs (312, 16, 3)\n",
      "shape of targets (312, 16, 3)\n",
      "step: 25  loss: 62.3579  0.3710 sec/batch\n",
      "step: 50  loss: 52.8952  0.3990 sec/batch\n",
      "step: 75  loss: 47.9281  0.3634 sec/batch\n",
      "step: 100  loss: 46.3846  0.3919 sec/batch\n",
      "step: 125  loss: 42.2797  0.3725 sec/batch\n",
      "step: 150  loss: 40.7206  0.3901 sec/batch\n",
      "step: 175  loss: 40.1415  0.3788 sec/batch\n",
      "step: 200  loss: 40.0491  0.4032 sec/batch\n",
      "step: 225  loss: 37.1005  0.3990 sec/batch\n",
      "step: 250  loss: 36.1908  0.3963 sec/batch\n",
      "step: 275  loss: 32.5509  0.3958 sec/batch\n",
      "step: 300  loss: 29.9683  0.3712 sec/batch\n",
      "step: 325  loss: 28.1746  0.3738 sec/batch\n",
      "step: 350  loss: 30.6910  0.3700 sec/batch\n",
      "step: 375  loss: 27.5498  0.3697 sec/batch\n",
      "step: 400  loss: 26.6000  0.3721 sec/batch\n",
      "step: 425  loss: 24.8057  0.3812 sec/batch\n",
      "step: 450  loss: 22.5728  0.3757 sec/batch\n",
      "step: 475  loss: 23.3858  0.3735 sec/batch\n",
      "step: 500  loss: 22.3826  0.3760 sec/batch\n",
      "step: 525  loss: 19.6880  0.3680 sec/batch\n",
      "step: 550  loss: 19.2874  0.3915 sec/batch\n",
      "step: 575  loss: 18.7514  0.3925 sec/batch\n",
      "step: 600  loss: 16.8611  0.3743 sec/batch\n",
      "step: 625  loss: 16.6529  0.3708 sec/batch\n",
      "step: 650  loss: 18.3285  0.3933 sec/batch\n",
      "step: 675  loss: 17.7388  0.3902 sec/batch\n",
      "step: 700  loss: 16.6854  0.3712 sec/batch\n",
      "step: 725  loss: 15.0813  0.3743 sec/batch\n",
      "step: 750  loss: 12.3505  0.3983 sec/batch\n",
      "step: 775  loss: 15.5047  0.3773 sec/batch\n",
      "step: 800  loss: 11.7684  0.4025 sec/batch\n",
      "step: 825  loss: 11.6978  0.3719 sec/batch\n",
      "step: 850  loss: 13.4904  0.3703 sec/batch\n",
      "step: 875  loss: 14.3881  0.3980 sec/batch\n",
      "step: 900  loss: 13.0052  0.3596 sec/batch\n",
      "step: 925  loss: 12.7771  0.3926 sec/batch\n",
      "step: 950  loss: 11.4606  0.3941 sec/batch\n",
      "step: 975  loss: 13.6464  0.3817 sec/batch\n",
      "step: 1000  loss: 12.0415  0.3709 sec/batch\n",
      "step: 1025  loss: 11.5993  0.3745 sec/batch\n",
      "step: 1050  loss: 10.4179  0.3693 sec/batch\n",
      "step: 1075  loss: 10.4683  0.3707 sec/batch\n",
      "step: 1100  loss: 10.7488  0.3713 sec/batch\n",
      "step: 1125  loss: 11.3955  0.3740 sec/batch\n",
      "step: 1150  loss: 10.5793  0.3877 sec/batch\n",
      "step: 1175  loss: 10.0597  0.3736 sec/batch\n",
      "step: 1200  loss: 8.8037  0.3707 sec/batch\n",
      "step: 1225  loss: 8.2287  0.3701 sec/batch\n",
      "step: 1250  loss: 9.4520  0.3867 sec/batch\n",
      "step: 1275  loss: 10.1179  0.3980 sec/batch\n",
      "step: 1300  loss: 9.2504  0.3700 sec/batch\n",
      "step: 1325  loss: 9.0096  0.3932 sec/batch\n",
      "step: 1350  loss: 9.1097  0.3691 sec/batch\n",
      "step: 1375  loss: 8.6650  0.3674 sec/batch\n",
      "step: 1400  loss: 8.6025  0.3951 sec/batch\n",
      "step: 1425  loss: 7.9103  0.4001 sec/batch\n",
      "step: 1450  loss: 9.3535  0.3687 sec/batch\n",
      "step: 1475  loss: 7.3501  0.3828 sec/batch\n",
      "step: 1500  loss: 7.8458  0.3619 sec/batch\n",
      "step: 1525  loss: 6.2282  0.3693 sec/batch\n",
      "step: 1550  loss: 8.3151  0.3969 sec/batch\n",
      "step: 1575  loss: 6.9496  0.3950 sec/batch\n",
      "step: 1600  loss: 7.2992  0.3935 sec/batch\n",
      "step: 1625  loss: 6.4457  0.3955 sec/batch\n",
      "step: 1650  loss: 8.4666  0.3863 sec/batch\n",
      "step: 1675  loss: 6.6227  0.3967 sec/batch\n",
      "step: 1700  loss: 6.9838  0.3637 sec/batch\n",
      "step: 1725  loss: 7.2018  0.3965 sec/batch\n",
      "step: 1750  loss: 7.0022  0.3861 sec/batch\n",
      "step: 1775  loss: 7.3353  0.3688 sec/batch\n",
      "step: 1800  loss: 6.4070  0.3941 sec/batch\n",
      "step: 1825  loss: 6.3963  0.4085 sec/batch\n",
      "step: 1850  loss: 6.3180  0.3960 sec/batch\n",
      "step: 1875  loss: 6.0813  0.3982 sec/batch\n",
      "step: 1900  loss: 7.4507  0.3670 sec/batch\n",
      "step: 1925  loss: 6.6715  0.3696 sec/batch\n",
      "step: 1950  loss: 6.6269  0.3982 sec/batch\n",
      "step: 1975  loss: 7.0849  0.3905 sec/batch\n",
      "step: 2000  loss: 5.9923  0.3942 sec/batch\n",
      "step: 2025  loss: 6.7379  0.3726 sec/batch\n",
      "step: 2050  loss: 6.0612  0.3715 sec/batch\n",
      "step: 2075  loss: 7.2155  0.3681 sec/batch\n",
      "step: 2100  loss: 6.5834  0.3769 sec/batch\n",
      "step: 2125  loss: 5.8482  0.3731 sec/batch\n",
      "step: 2150  loss: 6.8287  0.3732 sec/batch\n",
      "step: 2175  loss: 6.6416  0.3691 sec/batch\n",
      "step: 2200  loss: 6.7235  0.3696 sec/batch\n",
      "step: 2225  loss: 6.2977  0.3788 sec/batch\n",
      "step: 2250  loss: 6.3927  0.4019 sec/batch\n",
      "step: 2275  loss: 6.0415  0.3700 sec/batch\n",
      "step: 2300  loss: 5.6491  0.3846 sec/batch\n",
      "step: 2325  loss: 6.5235  0.3933 sec/batch\n",
      "step: 2350  loss: 5.8473  0.3719 sec/batch\n",
      "step: 2375  loss: 6.6015  0.3923 sec/batch\n",
      "step: 2400  loss: 6.3109  0.3978 sec/batch\n",
      "step: 2425  loss: 5.9184  0.3767 sec/batch\n",
      "step: 2450  loss: 5.9227  0.3754 sec/batch\n",
      "step: 2475  loss: 6.0775  0.3708 sec/batch\n",
      "step: 2500  loss: 6.3039  0.3849 sec/batch\n",
      "step: 2525  loss: 6.3579  0.3697 sec/batch\n",
      "step: 2550  loss: 6.1763  0.3945 sec/batch\n",
      "step: 2575  loss: 6.0409  0.4109 sec/batch\n",
      "step: 2600  loss: 5.2507  0.3947 sec/batch\n",
      "step: 2625  loss: 6.0472  0.3762 sec/batch\n",
      "step: 2650  loss: 5.5431  0.3948 sec/batch\n",
      "step: 2675  loss: 5.6242  0.3858 sec/batch\n",
      "step: 2700  loss: 5.9572  0.3718 sec/batch\n",
      "step: 2725  loss: 6.4741  0.3838 sec/batch\n",
      "step: 2750  loss: 6.1617  0.3973 sec/batch\n",
      "step: 2775  loss: 5.8534  0.3944 sec/batch\n",
      "step: 2800  loss: 6.5104  0.4001 sec/batch\n",
      "step: 2825  loss: 5.9969  0.3943 sec/batch\n",
      "step: 2850  loss: 6.0985  0.3958 sec/batch\n",
      "step: 2875  loss: 5.6138  0.3936 sec/batch\n",
      "step: 2900  loss: 5.4834  0.3804 sec/batch\n",
      "step: 2925  loss: 6.2227  0.3684 sec/batch\n",
      "step: 2950  loss: 5.5367  0.3799 sec/batch\n",
      "step: 2975  loss: 5.3834  0.3968 sec/batch\n",
      "step: 3000  loss: 5.5956  0.3817 sec/batch\n"
     ]
    }
   ],
   "source": [
    "model = OdomModel(batch_size = batch_size, \n",
    "                  num_steps = num_steps,\n",
    "                  cell_type = 'GRU',\n",
    "                  rnn_size = rnn_size,\n",
    "                  num_layers = num_layers,\n",
    "                  learning_rate = learning_rate)\n",
    "loss = model.train(kitti_data, max_count = 3000, save_every_n = 500, sequences = ['00', '02', '05', '08'])"
   ]
  },
  {
   "cell_type": "code",
   "execution_count": 173,
   "metadata": {},
   "outputs": [
    {
     "data": {
      "text/plain": [
       "[<matplotlib.lines.Line2D at 0x7fc7cdde61d0>]"
      ]
     },
     "execution_count": 173,
     "metadata": {},
     "output_type": "execute_result"
    },
    {
     "data": {
      "image/png": "[encoded data removed]",
      "text/plain": [
       "<Figure size 432x288 with 1 Axes>"
      ]
     },
     "metadata": {},
     "output_type": "display_data"
    }
   ],
   "source": [
    "plt.plot(loss)"
   ]
  },
  {
   "cell_type": "code",
   "execution_count": 174,
   "metadata": {},
   "outputs": [
    {
     "name": "stdout",
     "output_type": "stream",
     "text": [
      "output size (1, 1, 400)\n",
      "seq_output shape (1, 1, 400)\n",
      "shape of outputs (1, 1, 3)\n",
      "shape of targets (1, 1, 3)\n"
     ]
    }
   ],
   "source": [
    "model = OdomModel(batch_size = batch_size, \n",
    "                  num_steps = num_steps,\n",
    "                  cell_type = 'GRU',\n",
    "                  rnn_size = rnn_size,\n",
    "                  num_layers = num_layers,\n",
    "                  learning_rate = learning_rate,\n",
    "                  sampling = True)"
   ]
  },
  {
   "cell_type": "code",
   "execution_count": 234,
   "metadata": {},
   "outputs": [
    {
     "data": {
      "text/plain": [
       "(4070, 5)"
      ]
     },
     "execution_count": 234,
     "metadata": {},
     "output_type": "execute_result"
    }
   ],
   "source": [
    "inputs, inter_inputs, targets = kitti_data.get_full_sequence(sequence = '08')\n",
    "inter_inputs.shape"
   ]
  },
  {
   "cell_type": "code",
   "execution_count": 235,
   "metadata": {},
   "outputs": [
    {
     "name": "stdout",
     "output_type": "stream",
     "text": [
      "INFO:tensorflow:Restoring parameters from checkpoints/i3001_l400.ckpt\n"
     ]
    },
    {
     "data": {
      "text/plain": [
       "(4070, 3)"
      ]
     },
     "execution_count": 235,
     "metadata": {},
     "output_type": "execute_result"
    }
   ],
   "source": [
    "checkpoint = tf.train.latest_checkpoint('checkpoints')\n",
    "predictions = model.test(checkpoint, inter_inputs, priming_len = inter_inputs.shape[0])\n",
    "predictions.shape"
   ]
  },
  {
   "cell_type": "code",
   "execution_count": null,
   "metadata": {},
   "outputs": [],
   "source": [
    "predictions = predictions*kitti_data.pose_std+kitti_data.pose_mean\n",
    "targets = targets*kitti_data.pose_std+kitti_data.pose_mean"
   ]
  },
  {
   "cell_type": "code",
   "execution_count": 239,
   "metadata": {},
   "outputs": [
    {
     "data": {
      "text/plain": [
       "Text(0,0.5,'y')"
      ]
     },
     "execution_count": 239,
     "metadata": {},
     "output_type": "execute_result"
    },
    {
     "data": {
      "image/png": "[encoded data removed]",
      "text/plain": [
       "<Figure size 432x288 with 1 Axes>"
      ]
     },
     "metadata": {},
     "output_type": "display_data"
    }
   ],
   "source": [
    "plt.plot(predictions[:,0],predictions[:,1],label = 'estimate')\n",
    "plt.plot(targets[:,0],targets[:,1],label = 'ground truth')\n",
    "plt.legend()\n",
    "plt.xlabel('x')\n",
    "plt.ylabel('y')"
   ]
  },
  {
   "cell_type": "code",
   "execution_count": null,
   "metadata": {},
   "outputs": [],
   "source": []
  }
 ],
 "metadata": {
  "kernelspec": {
   "display_name": "Python 3",
   "language": "python",
   "name": "python3"
  },
  "language_info": {
   "codemirror_mode": {
    "name": "ipython",
    "version": 3
   },
   "file_extension": ".py",
   "mimetype": "text/x-python",
   "name": "python",
   "nbconvert_exporter": "python",
   "pygments_lexer": "ipython3",
   "version": "3.6.5"
  }
 },
 "nbformat": 4,
 "nbformat_minor": 2
}
