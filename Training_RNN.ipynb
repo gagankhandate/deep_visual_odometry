{
 "cells": [
  {
   "cell_type": "code",
<<<<<<< HEAD
   "execution_count": null,
=======
   "execution_count": 18,
>>>>>>> 54b64fcac384a5fcbe3eea230f1dcb9988bc4d03
   "metadata": {},
   "outputs": [
    {
     "name": "stdout",
     "output_type": "stream",
     "text": [
      "The autoreload extension is already loaded. To reload it, use:\n",
      "  %reload_ext autoreload\n"
     ]
    }
   ],
   "source": [
    "% matplotlib inline\n",
    "% load_ext autoreload\n",
    "% autoreload 2"
   ]
  },
  {
   "cell_type": "code",
<<<<<<< HEAD
   "execution_count": null,
=======
   "execution_count": 19,
>>>>>>> 54b64fcac384a5fcbe3eea230f1dcb9988bc4d03
   "metadata": {},
   "outputs": [],
   "source": [
    "from __future__ import print_function\n",
    "import tensorflow as tf\n",
    "import numpy as np\n",
    "from deep_visual_odometry.kitti_utils import KITTIdata\n",
    "from matplotlib import pyplot as plt"
   ]
  },
  {
   "cell_type": "code",
<<<<<<< HEAD
   "execution_count": null,
   "metadata": {
    "collapsed": true
   },
=======
   "execution_count": 20,
   "metadata": {},
>>>>>>> 54b64fcac384a5fcbe3eea230f1dcb9988bc4d03
   "outputs": [],
   "source": [
    "basedir = 'dataset'"
   ]
  },
  {
   "cell_type": "code",
<<<<<<< HEAD
   "execution_count": null,
   "metadata": {
    "collapsed": true
   },
=======
   "execution_count": 21,
   "metadata": {},
>>>>>>> 54b64fcac384a5fcbe3eea230f1dcb9988bc4d03
   "outputs": [],
   "source": [
    "from deep_visual_odometry.odometry_model import OdomModel"
   ]
  },
  {
   "cell_type": "code",
<<<<<<< HEAD
   "execution_count": null,
   "metadata": {
    "collapsed": true
   },
=======
   "execution_count": 22,
   "metadata": {},
>>>>>>> 54b64fcac384a5fcbe3eea230f1dcb9988bc4d03
   "outputs": [],
   "source": [
    "batch_size = 256         # Sequences per batch\n",
    "num_steps = 8         # Number of sequence steps per batch\n",
    "rnn_size = 64          # Size of hidden layers in rnn_cell\n",
    "num_layers = 2           # Number of hidden layers\n",
    "learning_rate = 0.001"
   ]
  },
  {
   "cell_type": "code",
<<<<<<< HEAD
   "execution_count": null,
=======
   "execution_count": 23,
>>>>>>> 54b64fcac384a5fcbe3eea230f1dcb9988bc4d03
   "metadata": {},
   "outputs": [],
   "source": [
    "kitti_data = KITTIdata(basedir, \n",
    "                       sequences = ['00','01'],\n",
    "                       sequence_len = num_steps,\n",
    "                       val_frac = 0,\n",
    "                       test_frac = 0.1,\n",
    "                       img_size=(150,50))"
   ]
  },
  {
   "cell_type": "code",
<<<<<<< HEAD
   "execution_count": null,
   "metadata": {
    "collapsed": true
   },
=======
   "execution_count": 25,
   "metadata": {},
>>>>>>> 54b64fcac384a5fcbe3eea230f1dcb9988bc4d03
   "outputs": [],
   "source": [
    "velocities_total = []\n",
    "poses_total = []\n",
    "for sequence in kitti_data.sequences:\n",
    "    velocities_total.append(kitti_data.velocities[sequence])\n",
    "    poses_total.append(kitti_data.poses[sequence])"
   ]
  },
  {
   "cell_type": "code",
<<<<<<< HEAD
   "execution_count": null,
   "metadata": {
    "collapsed": true
   },
=======
   "execution_count": 26,
   "metadata": {},
>>>>>>> 54b64fcac384a5fcbe3eea230f1dcb9988bc4d03
   "outputs": [],
   "source": [
    "velocities_total = np.vstack(velocities_total)\n",
    "poses_total = np.vstack(poses_total)\n",
    "mean_velo = np.mean(velocities_total,axis = 0)\n",
    "std_velo = np.std(velocities_total,axis = 0)\n",
    "mean_pose = np.mean(poses_total,axis = 0)\n",
    "std_pose = np.std(poses_total,axis = 0)"
   ]
  },
  {
   "cell_type": "code",
<<<<<<< HEAD
   "execution_count": null,
   "metadata": {
    "collapsed": true
   },
=======
   "execution_count": 27,
   "metadata": {},
>>>>>>> 54b64fcac384a5fcbe3eea230f1dcb9988bc4d03
   "outputs": [],
   "source": [
    "for sequence in kitti_data.sequences:\n",
    "    kitti_data.poses[sequence] = kitti_data.poses[sequence]-mean_pose\n",
    "    kitti_data.poses[sequence] /= std_pose\n",
    "    \n",
    "    kitti_data.velocities[sequence] = kitti_data.velocities[sequence]-mean_velo\n",
    "    kitti_data.velocities[sequence] /= std_velo"
   ]
  },
  {
   "cell_type": "code",
   "execution_count": null,
   "metadata": {},
<<<<<<< HEAD
   "outputs": [],
=======
   "outputs": [
    {
     "name": "stdout",
     "output_type": "stream",
     "text": [
      "output size (256, 8, 128)\n",
      "seq_output shape (256, 8, 128)\n",
      "shape of outputs (256, 8, 3)\n",
      "shape of targets (256, 8, 3)\n",
      "step: 500  loss: 0.3897  0.1069 sec/batch\n",
      "step: 1000  loss: 0.3602  0.1081 sec/batch\n",
      "step: 1500  loss: 0.3295  0.0917 sec/batch\n",
      "step: 2000  loss: 0.3208  0.0926 sec/batch\n",
      "step: 2500  loss: 0.2966  0.1083 sec/batch\n",
      "step: 3000  loss: 0.2584  0.0926 sec/batch\n",
      "step: 3500  loss: 0.2894  0.0937 sec/batch\n",
      "step: 4000  loss: 0.2766  0.0919 sec/batch\n",
      "step: 4500  loss: 0.2691  0.0942 sec/batch\n",
      "step: 5000  loss: 0.2489  0.0902 sec/batch\n",
      "step: 5500  loss: 0.2413  0.0920 sec/batch\n"
     ]
    }
   ],
>>>>>>> 54b64fcac384a5fcbe3eea230f1dcb9988bc4d03
   "source": [
    "model = OdomModel(batch_size = 256, \n",
    "                  num_steps = 8,\n",
    "                  cell_type = 'GRU',\n",
    "                  rnn_size = 128,\n",
    "                  num_layers = 2,\n",
    "                  learning_rate = 0.001)\n",
    "model.train(kitti_data, max_count = 10000, save_every_n = 1000)"
   ]
  },
  {
   "cell_type": "code",
   "execution_count": null,
   "metadata": {
    "collapsed": true
   },
   "outputs": [],
<<<<<<< HEAD
=======
   "source": [
    "kitti_data.dataset_len['01']"
   ]
  },
  {
   "cell_type": "code",
   "execution_count": null,
   "metadata": {
    "collapsed": true
   },
   "outputs": [],
   "source": [
    "inputs_train, velocities_train, poses_train = kitti_data.load_data_train()"
   ]
  },
  {
   "cell_type": "code",
   "execution_count": null,
   "metadata": {
    "collapsed": true
   },
   "outputs": [],
>>>>>>> 54b64fcac384a5fcbe3eea230f1dcb9988bc4d03
   "source": [
    "_, test_velocities,test_poses = kitti_data.load_data_test()\n",
    "print(test_velocities.shape,test_poses.shape)"
   ]
  },
  {
   "cell_type": "code",
   "execution_count": null,
   "metadata": {
    "collapsed": true
   },
   "outputs": [],
   "source": [
    "checkpoint = tf.train.latest_checkpoint('checkpoints')\n",
    "predictions = model.test(checkpoint,test_velocities,256)"
   ]
  }
 ],
 "metadata": {
  "kernelspec": {
   "display_name": "Python 3",
   "language": "python",
   "name": "python3"
  },
  "language_info": {
   "codemirror_mode": {
    "name": "ipython",
    "version": 3
   },
   "file_extension": ".py",
   "mimetype": "text/x-python",
   "name": "python",
   "nbconvert_exporter": "python",
   "pygments_lexer": "ipython3",
<<<<<<< HEAD
   "version": "3.6.3"
=======
   "version": "3.6.7"
>>>>>>> 54b64fcac384a5fcbe3eea230f1dcb9988bc4d03
  }
 },
 "nbformat": 4,
 "nbformat_minor": 2
}
