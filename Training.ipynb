{
 "cells": [
  {
   "cell_type": "code",
   "execution_count": 70,
   "metadata": {},
   "outputs": [
    {
     "name": "stdout",
     "output_type": "stream",
     "text": [
      "The autoreload extension is already loaded. To reload it, use:\n",
      "  %reload_ext autoreload\n"
     ]
    }
   ],
   "source": [
    "% matplotlib inline\n",
    "% load_ext autoreload\n",
    "% autoreload 2"
   ]
  },
  {
   "cell_type": "code",
   "execution_count": 71,
   "metadata": {},
   "outputs": [],
   "source": [
    "from __future__ import print_function\n",
    "import tensorflow as tf\n",
    "import numpy as np\n",
    "from deep_visual_odometry.kitti_utils import KITTIdata\n",
    "from matplotlib import pyplot as plt"
   ]
  },
  {
   "cell_type": "code",
   "execution_count": 72,
   "metadata": {},
   "outputs": [
    {
     "name": "stdout",
     "output_type": "stream",
     "text": [
      "completed load sequence 01 data\n"
     ]
    }
   ],
   "source": [
    "basedir = 'dataset'\n",
    "kitti_data = KITTIdata(basedir, sequences = ['01'], img_size=(150,50))"
   ]
  },
  {
   "cell_type": "code",
   "execution_count": 74,
   "metadata": {},
   "outputs": [
    {
     "ename": "KeyError",
     "evalue": "'00'",
     "output_type": "error",
     "traceback": [
      "\u001b[0;31m---------------------------------------------------------------------------\u001b[0m",
      "\u001b[0;31mKeyError\u001b[0m                                  Traceback (most recent call last)",
      "\u001b[0;32m<ipython-input-74-c4d8e24a738f>\u001b[0m in \u001b[0;36m<module>\u001b[0;34m()\u001b[0m\n\u001b[1;32m      3\u001b[0m \u001b[0;32mfor\u001b[0m \u001b[0mi\u001b[0m \u001b[0;32min\u001b[0m \u001b[0mrange\u001b[0m\u001b[0;34m(\u001b[0m\u001b[0;36m3\u001b[0m\u001b[0;34m)\u001b[0m\u001b[0;34m:\u001b[0m\u001b[0;34m\u001b[0m\u001b[0;34m\u001b[0m\u001b[0m\n\u001b[1;32m      4\u001b[0m     \u001b[0mplt\u001b[0m\u001b[0;34m.\u001b[0m\u001b[0msubplot\u001b[0m\u001b[0;34m(\u001b[0m\u001b[0;36m3\u001b[0m\u001b[0;34m,\u001b[0m\u001b[0;36m1\u001b[0m\u001b[0;34m,\u001b[0m \u001b[0mi\u001b[0m\u001b[0;34m+\u001b[0m\u001b[0;36m1\u001b[0m\u001b[0;34m)\u001b[0m\u001b[0;34m\u001b[0m\u001b[0;34m\u001b[0m\u001b[0m\n\u001b[0;32m----> 5\u001b[0;31m     \u001b[0mplt\u001b[0m\u001b[0;34m.\u001b[0m\u001b[0mplot\u001b[0m\u001b[0;34m(\u001b[0m\u001b[0mkitti_data\u001b[0m\u001b[0;34m.\u001b[0m\u001b[0mposes\u001b[0m\u001b[0;34m[\u001b[0m\u001b[0;34m'00'\u001b[0m\u001b[0;34m]\u001b[0m\u001b[0;34m[\u001b[0m\u001b[0;34m:\u001b[0m\u001b[0;34m,\u001b[0m\u001b[0mi\u001b[0m\u001b[0;34m]\u001b[0m\u001b[0;34m)\u001b[0m\u001b[0;34m\u001b[0m\u001b[0;34m\u001b[0m\u001b[0m\n\u001b[0m\u001b[1;32m      6\u001b[0m     \u001b[0mplt\u001b[0m\u001b[0;34m.\u001b[0m\u001b[0mylabel\u001b[0m\u001b[0;34m(\u001b[0m\u001b[0mylabels\u001b[0m\u001b[0;34m[\u001b[0m\u001b[0mi\u001b[0m\u001b[0;34m]\u001b[0m\u001b[0;34m)\u001b[0m\u001b[0;34m\u001b[0m\u001b[0;34m\u001b[0m\u001b[0m\n\u001b[1;32m      7\u001b[0m \u001b[0mplt\u001b[0m\u001b[0;34m.\u001b[0m\u001b[0mtight_layout\u001b[0m\u001b[0;34m(\u001b[0m\u001b[0;34m)\u001b[0m\u001b[0;34m\u001b[0m\u001b[0;34m\u001b[0m\u001b[0m\n",
      "\u001b[0;31mKeyError\u001b[0m: '00'"
     ]
    },
    {
     "data": {
      "image/png": "[encoded data removed]",
      "text/plain": [
       "<Figure size 432x288 with 1 Axes>"
      ]
     },
     "metadata": {
      "needs_background": "light"
     },
     "output_type": "display_data"
    }
   ],
   "source": [
    "plt.figure()\n",
    "ylabels = ['x','y','theta']\n",
    "for i in range(3):\n",
    "    plt.subplot(3,1, i+1)\n",
    "    plt.plot(kitti_data.poses['00'][:,i])\n",
    "    plt.ylabel(ylabels[i])\n",
    "plt.tight_layout()"
   ]
  },
  {
   "cell_type": "code",
   "execution_count": 73,
   "metadata": {},
   "outputs": [
    {
     "data": {
      "image/png": "[encoded data removed]",
      "text/plain": [
       "<Figure size 432x288 with 3 Axes>"
      ]
     },
     "metadata": {
      "needs_background": "light"
     },
     "output_type": "display_data"
    }
   ],
   "source": [
    "plt.figure()\n",
    "ylabels = ['x','y','theta']\n",
    "for i in range(3):\n",
    "    plt.subplot(3,1, i+1)\n",
    "    plt.plot(kitti_data.poses['01'][:,i])\n",
    "    plt.ylabel(ylabels[i])\n",
    "plt.tight_layout()"
   ]
  },
  {
   "cell_type": "code",
   "execution_count": 75,
   "metadata": {},
   "outputs": [],
   "source": [
    "inputs, velocities = kitti_data.load_data_input_model()"
   ]
  },
  {
   "cell_type": "code",
   "execution_count": 77,
   "metadata": {},
   "outputs": [
    {
     "name": "stdout",
     "output_type": "stream",
     "text": [
      "(1027, 50, 150, 6)\n",
      "(1027, 2)\n",
      "(73, 50, 150, 6)\n",
      "(73, 2)\n"
     ]
    }
   ],
   "source": [
    "np.random.seed(100)\n",
    "mask = np.arange(inputs.shape[0])\n",
    "np.random.shuffle(mask)\n",
    "inputs = inputs[mask]\n",
    "velocities = velocities[mask]\n",
    "num_validation = int(inputs.shape[0]/15)\n",
    "num_training = inputs.shape[0] - num_validation\n",
    "\n",
    "X_train, y_train = inputs[:num_training], velocities[:num_training]\n",
    "X_val, y_val = inputs[num_training:], velocities[num_training:]\n",
    "\n",
    "mean_image = np.mean(X_train, axis = 0)\n",
    "std_image = np.std(X_train, axis = 0)\n",
    "\n",
    "\n",
    "X_train = X_train.astype(np.float32) - mean_image.astype(np.float32)\n",
    "X_val = X_val.astype(np.float32) - mean_image.astype(np.float32)\n",
    "\n",
    "X_train /= 255\n",
    "X_val /= 255\n",
    "\n",
    "mean_y = np.mean(y_train, axis = 0)\n",
    "std_y = np.std(y_train, axis = 0)\n",
    "\n",
    "y_train = y_train - mean_y\n",
    "y_val = y_val - mean_y\n",
    "\n",
    "y_train /= std_y\n",
    "y_val /=std_y\n",
    "\n",
    "print(X_train.shape)\n",
    "print(y_train.shape)\n",
    "print(X_val.shape)\n",
    "print(y_val.shape)"
   ]
  },
  {
   "cell_type": "code",
   "execution_count": 81,
   "metadata": {},
   "outputs": [
    {
     "name": "stdout",
     "output_type": "stream",
     "text": [
      "Building velocity CNN. Parameters: \n",
      "conv_featmap=[16, 16, 16, 16]\n",
      "fc_units=[128, 128]\n",
      "conv_kernel_size=[7, 5, 5, 5]\n",
      "pooling_size=[2, 2, 2, 2]\n",
      "l2_norm=0.01\n",
      "seed=235\n",
      "learning_rate=0.0001\n",
      "number of batches for training: 10\n",
      "epoch 1 \n",
      "epoch 2 \n",
      "epoch 3 \n",
      "epoch 4 \n",
      "epoch 5 \n",
      "epoch 6 \n",
      "epoch 7 \n",
      "epoch 8 \n",
      "epoch 9 \n",
      "epoch 10 \n",
      "Best validation mse! iteration:100 val_mse: 0.8082320094108582\n",
      "epoch 11 \n",
      "epoch 12 \n",
      "epoch 13 \n",
      "epoch 14 \n",
      "epoch 15 \n",
      "epoch 16 \n",
      "epoch 17 \n",
      "epoch 18 \n",
      "epoch 19 \n",
      "epoch 20 \n",
      "Best validation mse! iteration:200 val_mse: 0.8008365035057068\n",
      "epoch 21 \n",
      "epoch 22 \n",
      "epoch 23 \n",
      "epoch 24 \n",
      "epoch 25 \n",
      "epoch 26 \n",
      "epoch 27 \n",
      "epoch 28 \n",
      "epoch 29 \n",
      "epoch 30 \n",
      "epoch 31 \n",
      "epoch 32 \n",
      "epoch 33 \n",
      "epoch 34 \n",
      "epoch 35 \n",
      "epoch 36 \n",
      "epoch 37 \n",
      "epoch 38 \n",
      "epoch 39 \n",
      "epoch 40 \n",
      "epoch 41 \n",
      "epoch 42 \n",
      "epoch 43 \n",
      "epoch 44 \n",
      "epoch 45 \n",
      "epoch 46 \n",
      "epoch 47 \n",
      "epoch 48 \n",
      "epoch 49 \n",
      "epoch 50 \n",
      "epoch 51 \n",
      "epoch 52 \n",
      "epoch 53 \n",
      "epoch 54 \n",
      "epoch 55 \n",
      "epoch 56 \n",
      "epoch 57 \n",
      "epoch 58 \n",
      "epoch 59 \n",
      "epoch 60 \n",
      "epoch 61 \n",
      "epoch 62 \n",
      "epoch 63 \n",
      "epoch 64 \n",
      "epoch 65 \n",
      "epoch 66 \n",
      "epoch 67 \n",
      "epoch 68 \n",
      "epoch 69 \n",
      "epoch 70 \n",
      "epoch 71 \n",
      "epoch 72 \n",
      "epoch 73 \n",
      "epoch 74 \n",
      "epoch 75 \n",
      "epoch 76 \n",
      "epoch 77 \n",
      "epoch 78 \n",
      "epoch 79 \n",
      "epoch 80 \n",
      "epoch 81 \n",
      "epoch 82 \n",
      "epoch 83 \n",
      "epoch 84 \n",
      "epoch 85 \n",
      "epoch 86 \n",
      "epoch 87 \n",
      "epoch 88 \n",
      "epoch 89 \n",
      "epoch 90 \n",
      "epoch 91 \n",
      "epoch 92 \n",
      "epoch 93 \n",
      "epoch 94 \n",
      "epoch 95 \n",
      "epoch 96 \n",
      "epoch 97 \n",
      "epoch 98 \n",
      "epoch 99 \n",
      "epoch 100 \n",
      "epoch 101 \n",
      "epoch 102 \n",
      "epoch 103 \n",
      "epoch 104 \n",
      "epoch 105 \n",
      "epoch 106 \n",
      "epoch 107 \n",
      "epoch 108 \n",
      "epoch 109 \n",
      "epoch 110 \n",
      "epoch 111 \n",
      "epoch 112 \n",
      "epoch 113 \n",
      "epoch 114 \n",
      "epoch 115 \n",
      "epoch 116 \n",
      "epoch 117 \n",
      "epoch 118 \n",
      "epoch 119 \n",
      "epoch 120 \n",
      "epoch 121 \n",
      "epoch 122 \n",
      "epoch 123 \n",
      "epoch 124 \n",
      "epoch 125 \n",
      "epoch 126 \n",
      "epoch 127 \n",
      "epoch 128 \n",
      "epoch 129 \n",
      "epoch 130 \n",
      "Best validation mse! iteration:1300 val_mse: 0.8003668189048767\n",
      "epoch 131 \n",
      "epoch 132 \n",
      "epoch 133 \n",
      "epoch 134 \n",
      "epoch 135 \n",
      "epoch 136 \n",
      "epoch 137 \n",
      "epoch 138 \n",
      "epoch 139 \n",
      "epoch 140 \n",
      "Best validation mse! iteration:1400 val_mse: 0.7996603846549988\n",
      "epoch 141 \n",
      "epoch 142 \n",
      "epoch 143 \n",
      "epoch 144 \n",
      "epoch 145 \n",
      "epoch 146 \n",
      "epoch 147 \n",
      "epoch 148 \n",
      "epoch 149 \n",
      "epoch 150 \n",
      "epoch 151 \n",
      "epoch 152 \n",
      "epoch 153 \n",
      "epoch 154 \n",
      "epoch 155 \n",
      "epoch 156 \n",
      "epoch 157 \n",
      "epoch 158 \n",
      "epoch 159 \n",
      "epoch 160 \n",
      "epoch 161 \n",
      "epoch 162 \n",
      "epoch 163 \n",
      "epoch 164 \n",
      "epoch 165 \n",
      "epoch 166 \n",
      "epoch 167 \n",
      "epoch 168 \n",
      "epoch 169 \n",
      "epoch 170 \n",
      "epoch 171 \n",
      "epoch 172 \n",
      "epoch 173 \n",
      "epoch 174 \n",
      "epoch 175 \n",
      "epoch 176 \n",
      "epoch 177 \n",
      "epoch 178 \n",
      "epoch 179 \n",
      "epoch 180 \n",
      "epoch 181 \n",
      "epoch 182 \n",
      "epoch 183 \n",
      "epoch 184 \n",
      "epoch 185 \n",
      "epoch 186 \n",
      "epoch 187 \n",
      "epoch 188 \n",
      "epoch 189 \n",
      "epoch 190 \n",
      "epoch 191 \n",
      "epoch 192 \n",
      "epoch 193 \n",
      "epoch 194 \n",
      "epoch 195 \n",
      "epoch 196 \n",
      "epoch 197 \n",
      "epoch 198 \n",
      "epoch 199 \n",
      "epoch 200 \n",
      "Traning ends. The best valid mse is 0.7996603846549988. Model named CNN_Velocity_Model.\n"
     ]
    }
   ],
   "source": [
    "from deep_visual_odometry.input_model import training\n",
    "tf.reset_default_graph()\n",
    "training(X_train, y_train, X_val, y_val, \n",
    "         conv_featmap=[16,16,16,16],\n",
    "         fc_units=[128,128],\n",
    "         conv_kernel_size=[7,5,5,5],\n",
    "         pooling_size=[2,2,2,2],\n",
    "         l2_norm=0.01,\n",
    "         seed=235,\n",
    "         learning_rate=1e-4,\n",
    "         epoch=200,\n",
    "         batch_size=100,\n",
    "         verbose=False,\n",
    "         pre_trained_model=None)"
   ]
  },
  {
   "cell_type": "code",
   "execution_count": null,
   "metadata": {},
   "outputs": [],
   "source": []
  },
  {
   "cell_type": "code",
   "execution_count": 38,
   "metadata": {},
   "outputs": [
    {
     "name": "stdout",
     "output_type": "stream",
     "text": [
      "INFO:tensorflow:Restoring parameters from model/CNN_Velocity_Model\n"
     ]
    }
   ],
   "source": [
    "from deep_visual_odometry.input_model import test_input_model\n",
    "out = test_input_model(\"CNN_Velocity_Model\",X_val,y_val)"
   ]
  },
  {
   "cell_type": "code",
   "execution_count": 50,
   "metadata": {},
   "outputs": [
    {
     "name": "stdout",
     "output_type": "stream",
     "text": [
      "recalculated validation mse is 0.045310675659750416\n",
      "validation mse if the rotational part is ignored 0.01091451498558482\n"
     ]
    }
   ],
   "source": [
    "error = out-y_val\n",
    "print(f'recalculated validation mse is {np.linalg.norm(error)/num_validation}')\n",
    "print(f'validation mse if the rotational part is ignored {np.linalg.norm(error[:,0])/num_validation}')\n",
    "      "
   ]
  },
  {
   "cell_type": "code",
   "execution_count": 51,
   "metadata": {},
   "outputs": [
    {
     "name": "stdout",
     "output_type": "stream",
     "text": [
      "INFO:tensorflow:Restoring parameters from model/CNN_Velocity_Model\n"
     ]
    }
   ],
   "source": [
    "out = test_input_model(\"CNN_Velocity_Model\",X_val,y_val)"
   ]
  },
  {
   "cell_type": "code",
   "execution_count": 10,
   "metadata": {},
   "outputs": [
    {
     "data": {
      "image/png": "[encoded data removed]",
      "text/plain": [
       "<Figure size 432x288 with 1 Axes>"
      ]
     },
     "metadata": {},
     "output_type": "display_data"
    }
   ],
   "source": [
    "plt.scatter(y_val[:,0],out[:,0])\n",
    "plt.show()"
   ]
  },
  {
   "cell_type": "code",
   "execution_count": 11,
   "metadata": {},
   "outputs": [
    {
     "data": {
      "image/png": "[encoded data removed]",
      "text/plain": [
       "<Figure size 432x288 with 1 Axes>"
      ]
     },
     "metadata": {},
     "output_type": "display_data"
    }
   ],
   "source": [
    "plt.scatter(y_val[:,1],out[:,1])\n",
    "plt.show()"
   ]
  },
  {
   "cell_type": "code",
   "execution_count": 12,
   "metadata": {},
   "outputs": [
    {
     "data": {
      "text/plain": [
       "array([-1.0440965, -1.0440965, -1.0440965, -1.0440965, -1.0440965,\n",
       "       -1.0440965, -1.0440965, -1.0440964, -1.0440965, -1.0440965,\n",
       "       -1.0440965, -1.0440965, -1.0440964, -1.0440965, -1.0440965,\n",
       "       -1.0440964, -1.0440965, -1.0440965, -1.0440965, -1.0440965,\n",
       "       -1.0440965, -1.0440965, -1.0440965, -1.0440965, -1.0440965,\n",
       "       -1.0440965, -1.0440965, -1.0440965, -1.0440965, -1.0440965,\n",
       "       -1.0440965, -1.0440965, -1.0440965, -1.0440964, -1.0440965,\n",
       "       -1.0440965, -1.0440965, -1.0440965, -1.0440965, -1.0440965,\n",
       "       -1.0440965, -1.0440965, -1.0440965, -1.0440965, -1.0440965,\n",
       "       -1.0440964, -1.0440965, -1.0440965, -1.0440965, -1.0440965,\n",
       "       -1.0440965, -1.0440964, -1.0440965, -1.0440965, -1.0440965,\n",
       "       -1.0440965, -1.0440965, -1.0440965, -1.0440964, -1.0440965,\n",
       "       -1.0440965, -1.0440965, -1.0440964, -1.0440965, -1.0440965,\n",
       "       -1.0440965, -1.0440965, -1.0440965, -1.0440965, -1.0440965,\n",
       "       -1.0440964, -1.0440965, -1.0440965, -1.0440965, -1.0440965,\n",
       "       -1.0440965, -1.0440964, -1.0440965, -1.0440965, -1.0440965,\n",
       "       -1.0440965, -1.0440965, -1.0440965, -1.0440965, -1.0440965,\n",
       "       -1.0440965, -1.0440964, -1.0440965, -1.0440965, -1.0440965,\n",
       "       -1.0440965, -1.0440964, -1.0440965, -1.0440964, -1.0440965,\n",
       "       -1.0440965, -1.0440965, -1.0440965, -1.0440965, -1.0440965,\n",
       "       -1.0440965, -1.0440965, -1.0440964, -1.0440964, -1.0440965,\n",
       "       -1.0440965, -1.0440965, -1.0440965, -1.0440965, -1.0440965,\n",
       "       -1.0440965, -1.0440965, -1.0440964, -1.0440965, -1.0440965,\n",
       "       -1.0440965, -1.0440965, -1.0440965, -1.0440965, -1.0440965,\n",
       "       -1.0440965, -1.0440965, -1.0440965, -1.0440965, -1.0440965,\n",
       "       -1.0440965, -1.0440965, -1.0440964, -1.0440965, -1.0440965,\n",
       "       -1.0440964, -1.0440965, -1.0440965, -1.0440965, -1.0440965,\n",
       "       -1.0440965, -1.0440965, -1.0440965, -1.0440965, -1.0440965,\n",
       "       -1.0440964, -1.0440965, -1.0440965, -1.0440965, -1.0440965,\n",
       "       -1.0440965, -1.0440965, -1.0440965, -1.0440965, -1.0440964,\n",
       "       -1.0440965, -1.0440965, -1.0440965, -1.0440965, -1.0440965,\n",
       "       -1.0440965, -1.0440965, -1.0440965, -1.0440965, -1.0440965,\n",
       "       -1.0440965, -1.0440965, -1.0440965, -1.0440964, -1.0440965,\n",
       "       -1.0440965, -1.0440965, -1.0440965, -1.0440965, -1.0440965,\n",
       "       -1.0440964, -1.0440965, -1.0440965, -1.0440965, -1.0440965,\n",
       "       -1.0440965, -1.0440965, -1.0440965, -1.0440965, -1.0440965,\n",
       "       -1.0440965, -1.0440965, -1.0440965, -1.0440965, -1.0440965,\n",
       "       -1.0440965, -1.0440965, -1.0440965, -1.0440965, -1.0440965,\n",
       "       -1.0440965, -1.0440965, -1.0440965, -1.0440965, -1.0440964,\n",
       "       -1.0440965, -1.0440965, -1.0440965, -1.0440965, -1.0440965,\n",
       "       -1.0440965, -1.0440965, -1.0440965, -1.0440965, -1.0440965,\n",
       "       -1.0440965, -1.0440965, -1.0440965, -1.0440965, -1.0440965,\n",
       "       -1.0440965, -1.0440965, -1.0440965, -1.0440965, -1.0440965,\n",
       "       -1.0440965, -1.0440965, -1.0440965, -1.0440965, -1.0440965,\n",
       "       -1.0440965, -1.0440964, -1.0440965, -1.0440965, -1.0440965,\n",
       "       -1.0440965, -1.0440965, -1.0440965, -1.0440965, -1.0440965,\n",
       "       -1.0440965, -1.0440965, -1.0440965, -1.0440965, -1.0440965,\n",
       "       -1.0440965, -1.0440965, -1.0440965, -1.0440965, -1.0440965,\n",
       "       -1.0440965, -1.0440965, -1.0440965, -1.0440965, -1.0440965,\n",
       "       -1.0440965, -1.0440965, -1.0440965, -1.0440965, -1.0440965,\n",
       "       -1.0440965, -1.0440965, -1.0440965, -1.0440965, -1.0440965,\n",
       "       -1.0440965, -1.0440965, -1.0440965, -1.0440965, -1.0440965,\n",
       "       -1.0440965, -1.0440965, -1.0440965, -1.0440965, -1.0440965,\n",
       "       -1.0440965, -1.0440965, -1.0440965, -1.0440965, -1.0440965,\n",
       "       -1.0440965, -1.0440965, -1.0440965, -1.0440965, -1.0440965,\n",
       "       -1.0440965, -1.0440965, -1.0440965, -1.0440965, -1.0440965,\n",
       "       -1.0440965, -1.0440965, -1.0440965, -1.0440965, -1.0440965,\n",
       "       -1.0440965, -1.0440965, -1.0440965, -1.0440965, -1.0440964,\n",
       "       -1.0440965, -1.0440965, -1.0440965, -1.0440965, -1.0440965,\n",
       "       -1.0440965, -1.0440965, -1.0440965, -1.0440965, -1.0440965,\n",
       "       -1.0440965, -1.0440965, -1.0440964, -1.0440965, -1.0440965,\n",
       "       -1.0440965, -1.0440965, -1.0440965, -1.0440965, -1.0440965,\n",
       "       -1.0440965, -1.0440965, -1.0440965, -1.0440965, -1.0440965,\n",
       "       -1.0440965, -1.0440964, -1.0440965, -1.0440964, -1.0440964,\n",
       "       -1.0440965, -1.0440965, -1.0440965, -1.0440965, -1.0440965,\n",
       "       -1.0440965, -1.0440965, -1.0440965, -1.0440965, -1.0440965,\n",
       "       -1.0440965, -1.0440965, -1.0440964, -1.0440965, -1.0440965,\n",
       "       -1.0440965, -1.0440965, -1.0440965, -1.0440965, -1.0440965,\n",
       "       -1.0440965, -1.0440965, -1.0440965, -1.0440965, -1.0440965,\n",
       "       -1.0440965, -1.0440965, -1.0440965, -1.0440965, -1.0440964,\n",
       "       -1.0440965, -1.0440965, -1.0440965, -1.0440965, -1.0440965,\n",
       "       -1.0440964, -1.0440965, -1.0440965, -1.0440965, -1.0440965,\n",
       "       -1.0440965, -1.0440965, -1.0440965, -1.0440965, -1.0440965,\n",
       "       -1.0440965, -1.0440965, -1.0440965, -1.0440965, -1.0440965,\n",
       "       -1.0440965, -1.0440965, -1.0440965, -1.0440965, -1.0440965,\n",
       "       -1.0440965, -1.0440964, -1.0440965, -1.0440965, -1.0440965,\n",
       "       -1.0440965, -1.0440965, -1.0440964, -1.0440965, -1.0440965,\n",
       "       -1.0440965, -1.0440965, -1.0440965, -1.0440965, -1.0440965,\n",
       "       -1.0440965, -1.0440965, -1.0440965, -1.0440965, -1.0440965,\n",
       "       -1.0440965, -1.0440964, -1.0440964, -1.0440965, -1.0440965,\n",
       "       -1.0440965, -1.0440965, -1.0440965, -1.0440965, -1.0440964,\n",
       "       -1.0440965, -1.0440965, -1.0440965, -1.0440965, -1.0440965,\n",
       "       -1.0440965, -1.0440965, -1.0440965, -1.0440965, -1.0440964,\n",
       "       -1.0440965, -1.0440965, -1.0440965, -1.0440965, -1.0440965,\n",
       "       -1.0440965, -1.0440965, -1.0440964, -1.0440965, -1.0440965,\n",
       "       -1.0440965, -1.0440965, -1.0440965, -1.0440965, -1.0440965,\n",
       "       -1.0440965, -1.0440965, -1.0440965, -1.0440965, -1.0440965,\n",
       "       -1.0440965, -1.0440965, -1.0440965, -1.0440965, -1.0440965,\n",
       "       -1.0440965, -1.0440965, -1.0440965, -1.0440965, -1.0440964,\n",
       "       -1.0440965, -1.0440965, -1.0440965, -1.0440965, -1.0440965,\n",
       "       -1.0440965, -1.0440964, -1.0440965, -1.0440965, -1.0440965,\n",
       "       -1.0440965, -1.0440964, -1.0440965, -1.0440965, -1.0440965,\n",
       "       -1.0440965, -1.0440964, -1.0440965, -1.0440965, -1.0440965,\n",
       "       -1.0440965, -1.0440965, -1.0440965, -1.0440964, -1.0440965,\n",
       "       -1.0440965, -1.0440965, -1.0440965, -1.0440965, -1.0440965,\n",
       "       -1.0440965, -1.0440965, -1.0440965, -1.0440964, -1.0440964,\n",
       "       -1.0440965, -1.0440965, -1.0440964, -1.0440964, -1.0440965,\n",
       "       -1.0440965, -1.0440965, -1.0440965, -1.0440965, -1.0440964,\n",
       "       -1.0440965, -1.0440965, -1.0440965, -1.0440965, -1.0440965,\n",
       "       -1.0440965, -1.0440965, -1.0440965, -1.0440965, -1.0440965,\n",
       "       -1.0440965, -1.0440964, -1.0440965, -1.0440965, -1.0440965,\n",
       "       -1.0440965, -1.0440965, -1.0440965, -1.0440965, -1.0440965,\n",
       "       -1.0440965, -1.0440965, -1.0440965, -1.0440965, -1.0440965,\n",
       "       -1.0440965, -1.0440965, -1.0440965, -1.0440965, -1.0440965,\n",
       "       -1.0440965, -1.0440965, -1.0440965, -1.0440965, -1.0440965,\n",
       "       -1.0440965, -1.0440965, -1.0440964, -1.0440965, -1.0440965,\n",
       "       -1.0440965, -1.0440964, -1.0440965, -1.0440965, -1.0440964,\n",
       "       -1.0440965, -1.0440965, -1.0440965, -1.0440965, -1.0440965,\n",
       "       -1.0440965, -1.0440965, -1.0440965, -1.0440964, -1.0440965,\n",
       "       -1.0440964, -1.0440965, -1.0440965, -1.0440965, -1.0440965,\n",
       "       -1.0440965, -1.0440965, -1.0440965, -1.0440965, -1.0440965,\n",
       "       -1.0440965, -1.0440965, -1.0440964, -1.0440965, -1.0440965,\n",
       "       -1.0440965, -1.0440965, -1.0440965, -1.0440965], dtype=float32)"
      ]
     },
     "execution_count": 12,
     "metadata": {},
     "output_type": "execute_result"
    }
   ],
   "source": [
    "out[:,1]"
   ]
  },
  {
   "cell_type": "code",
   "execution_count": null,
   "metadata": {},
   "outputs": [],
   "source": []
  }
 ],
 "metadata": {
  "kernelspec": {
   "display_name": "Python 3",
   "language": "python",
   "name": "python3"
  },
  "language_info": {
   "codemirror_mode": {
    "name": "ipython",
    "version": 3
   },
   "file_extension": ".py",
   "mimetype": "text/x-python",
   "name": "python",
   "nbconvert_exporter": "python",
   "pygments_lexer": "ipython3",
   "version": "3.6.7"
  }
 },
 "nbformat": 4,
 "nbformat_minor": 2
}
