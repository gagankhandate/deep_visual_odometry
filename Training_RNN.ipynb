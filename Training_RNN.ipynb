{
 "cells": [
  {
   "cell_type": "code",
   "execution_count": 1,
   "metadata": {},
   "outputs": [],
   "source": [
    "% matplotlib inline\n",
    "% load_ext autoreload\n",
    "% autoreload 2"
   ]
  },
  {
   "cell_type": "code",
   "execution_count": 2,
   "metadata": {},
   "outputs": [],
   "source": [
    "from __future__ import print_function\n",
    "import tensorflow as tf\n",
    "import numpy as np\n",
    "from deep_visual_odometry.kitti_utils import KITTIdata\n",
    "from matplotlib import pyplot as plt"
   ]
  },
  {
   "cell_type": "code",
   "execution_count": 3,
   "metadata": {},
   "outputs": [],
   "source": [
    "basedir = 'dataset'"
   ]
  },
  {
   "cell_type": "code",
   "execution_count": 4,
   "metadata": {},
   "outputs": [],
   "source": [
    "from deep_visual_odometry.odometry_model import OdomModel"
   ]
  },
  {
   "cell_type": "code",
   "execution_count": 5,
   "metadata": {},
   "outputs": [],
   "source": [
    "batch_size = 256         # Sequences per batch\n",
    "num_steps = 8         # Number of sequence steps per batch\n",
    "rnn_size = 64          # Size of hidden layers in rnn_cell\n",
    "num_layers = 2           # Number of hidden layers\n",
    "learning_rate = 0.001"
   ]
  },
  {
   "cell_type": "code",
   "execution_count": 6,
   "metadata": {},
   "outputs": [
    {
     "name": "stdout",
     "output_type": "stream",
     "text": [
      "completed load sequence 00 data\n"
     ]
    }
   ],
   "source": [
    "kitti_data = KITTIdata(basedir, \n",
    "                       sequences = ['00'],\n",
    "                       sequence_len = num_steps,\n",
    "                       val_frac = 0,\n",
    "                       test_frac = 0,\n",
    "                       img_size=(150,50))"
   ]
  },
  {
   "cell_type": "code",
   "execution_count": 9,
   "metadata": {},
   "outputs": [
    {
     "name": "stdout",
     "output_type": "stream",
     "text": [
      "output size (256, 8, 128)\n",
      "seq_output shape (256, 8, 128)\n",
      "x (2048, 128)\n",
      "mse_w (128, 3)\n",
      "shape of logits (256, 8, 3)\n",
      "shape of targets (256, 8, 3)\n",
      "step: 500  loss: 6355.4434  0.0658 sec/batch\n",
      "step: 1000  loss: 7073.4233  0.0433 sec/batch\n",
      "step: 1500  loss: 6951.5737  0.0427 sec/batch\n",
      "step: 2000  loss: 6882.9995  0.0426 sec/batch\n",
      "step: 2500  loss: 5674.7344  0.0429 sec/batch\n",
      "step: 3000  loss: 7347.6392  0.0457 sec/batch\n",
      "step: 3500  loss: 7004.4468  0.0447 sec/batch\n",
      "step: 4000  loss: 7316.0938  0.0421 sec/batch\n",
      "step: 4500  loss: 6203.7173  0.0450 sec/batch\n",
      "step: 5000  loss: 6104.8228  0.0418 sec/batch\n",
      "step: 5500  loss: 7253.5195  0.0738 sec/batch\n",
      "step: 6000  loss: 6802.6602  0.0431 sec/batch\n",
      "step: 6500  loss: 6453.3164  0.0435 sec/batch\n",
      "step: 7000  loss: 6280.3164  0.0439 sec/batch\n",
      "step: 7500  loss: 7071.7837  0.0496 sec/batch\n",
      "step: 8000  loss: 7247.7651  0.0421 sec/batch\n",
      "step: 8500  loss: 6511.9551  0.0450 sec/batch\n",
      "step: 9000  loss: 6493.0039  0.0513 sec/batch\n",
      "step: 9500  loss: 6851.1675  0.0435 sec/batch\n",
      "step: 10000  loss: 7273.9751  0.0451 sec/batch\n"
     ]
    }
   ],
   "source": [
    "model = OdomModel(batch_size = 256, \n",
    "                  num_steps = 8,\n",
    "                  cell_type = 'GRU',\n",
    "                  rnn_size = 128,\n",
    "                  num_layers = 2,\n",
    "                  learning_rate = 0.00001)\n",
    "model.train(kitti_data, max_count = 10000, save_every_n = 1000)"
   ]
  },
  {
   "cell_type": "code",
   "execution_count": null,
   "metadata": {},
   "outputs": [],
   "source": [
    "kitti_data.dataset_len['01']"
   ]
  },
  {
   "cell_type": "code",
   "execution_count": null,
   "metadata": {},
   "outputs": [],
   "source": [
    "inputs_train, velocities_train, poses_train = kitti_data.load_data_train()"
   ]
  },
  {
   "cell_type": "code",
   "execution_count": null,
   "metadata": {},
   "outputs": [],
   "source": [
    "inputs_train.shape"
   ]
  },
  {
   "cell_type": "code",
   "execution_count": null,
   "metadata": {},
   "outputs": [],
   "source": []
  }
 ],
 "metadata": {
  "kernelspec": {
   "display_name": "Python 3",
   "language": "python",
   "name": "python3"
  },
  "language_info": {
   "codemirror_mode": {
    "name": "ipython",
    "version": 3
   },
   "file_extension": ".py",
   "mimetype": "text/x-python",
   "name": "python",
   "nbconvert_exporter": "python",
   "pygments_lexer": "ipython3",
   "version": "3.6.7"
  }
 },
 "nbformat": 4,
 "nbformat_minor": 2
}
