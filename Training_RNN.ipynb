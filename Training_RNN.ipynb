{
 "cells": [
  {
   "cell_type": "code",
   "execution_count": 1,
   "metadata": {},
   "outputs": [],
   "source": [
    "% matplotlib inline\n",
    "% load_ext autoreload\n",
    "% autoreload 2"
   ]
  },
  {
   "cell_type": "code",
   "execution_count": 2,
   "metadata": {},
   "outputs": [],
   "source": [
    "from __future__ import print_function\n",
    "import tensorflow as tf\n",
    "import numpy as np\n",
    "from deep_visual_odometry.kitti_utils import KITTIdata\n",
    "from matplotlib import pyplot as plt"
   ]
  },
  {
   "cell_type": "code",
   "execution_count": 3,
   "metadata": {},
   "outputs": [],
   "source": [
    "basedir = 'dataset'"
   ]
  },
  {
   "cell_type": "code",
   "execution_count": 4,
   "metadata": {},
   "outputs": [],
   "source": [
    "from deep_visual_odometry.odometry_model import OdomModel"
   ]
  },
  {
   "cell_type": "code",
   "execution_count": 5,
   "metadata": {},
   "outputs": [],
   "source": [
    "batch_size = 256         # Sequences per batch\n",
    "num_steps = 8         # Number of sequence steps per batch\n",
    "rnn_size = 64          # Size of hidden layers in rnn_cell\n",
    "num_layers = 2           # Number of hidden layers\n",
    "learning_rate = 0.001\n"
   ]
  },
  {
   "cell_type": "code",
   "execution_count": 8,
   "metadata": {},
   "outputs": [
    {
     "name": "stdout",
     "output_type": "stream",
     "text": [
      "completed load sequence 01 data\n"
     ]
    }
   ],
   "source": [
    "kitti_data = KITTIdata(basedir, sequences = ['01'],sequence_len = num_steps,val_frac = 0,test_frac = 0, img_size=(150,50))"
   ]
  },
  {
   "cell_type": "code",
   "execution_count": 16,
   "metadata": {},
   "outputs": [
    {
     "name": "stdout",
     "output_type": "stream",
     "text": [
      "output size (32, 8, 16)\n",
      "seq_output shape (32, 8, 16)\n",
      "x (256, 16)\n",
      "mse_w (16, 3)\n",
      "shape of logits (32, 8, 3)\n",
      "shape of targets (32, 8, 3)\n",
      "step: 500  loss: 478343.0938  0.0133 sec/batch\n",
      "step: 1000  loss: 606230.9375  0.0137 sec/batch\n",
      "step: 1500  loss: 318725.0938  0.0124 sec/batch\n",
      "step: 2000  loss: 431019.1562  0.0128 sec/batch\n",
      "step: 2500  loss: 423960.6250  0.0140 sec/batch\n",
      "step: 3000  loss: 539439.3750  0.0132 sec/batch\n",
      "step: 3500  loss: 436943.7188  0.0152 sec/batch\n",
      "step: 4000  loss: 490735.3438  0.0142 sec/batch\n",
      "step: 4500  loss: 645782.5625  0.0139 sec/batch\n",
      "step: 5000  loss: 543070.8125  0.0120 sec/batch\n",
      "step: 5500  loss: 511248.7812  0.0130 sec/batch\n",
      "step: 6000  loss: 427384.7500  0.0134 sec/batch\n"
     ]
    }
   ],
   "source": [
    "model = OdomModel(batch_size = 32, num_steps = 8,cell_type = 'GRU', rnn_size = 16, num_layers = 1, learning_rate = 0.0001)\n",
    "model.train(kitti_data,max_count = 6000,save_every_n = 1000)"
   ]
  },
  {
   "cell_type": "code",
   "execution_count": null,
   "metadata": {},
   "outputs": [],
   "source": [
    "kitti_data.dataset_len['01']"
   ]
  },
  {
   "cell_type": "code",
   "execution_count": null,
   "metadata": {},
   "outputs": [],
   "source": [
    "inputs_train, velocities_train, poses_train = kitti_data.load_data_train()"
   ]
  },
  {
   "cell_type": "code",
   "execution_count": null,
   "metadata": {},
   "outputs": [],
   "source": [
    "inputs_train.shape"
   ]
  },
  {
   "cell_type": "code",
   "execution_count": null,
   "metadata": {},
   "outputs": [],
   "source": []
  }
 ],
 "metadata": {
  "kernelspec": {
   "display_name": "Python 3",
   "language": "python",
   "name": "python3"
  },
  "language_info": {
   "codemirror_mode": {
    "name": "ipython",
    "version": 3
   },
   "file_extension": ".py",
   "mimetype": "text/x-python",
   "name": "python",
   "nbconvert_exporter": "python",
   "pygments_lexer": "ipython3",
   "version": "3.6.5"
  }
 },
 "nbformat": 4,
 "nbformat_minor": 2
}
