{
 "cells": [
  {
   "cell_type": "code",
   "execution_count": 1,
   "metadata": {},
   "outputs": [],
   "source": [
    "% matplotlib inline\n",
    "% load_ext autoreload\n",
    "% autoreload 2"
   ]
  },
  {
   "cell_type": "code",
   "execution_count": 2,
   "metadata": {},
   "outputs": [],
   "source": [
    "from __future__ import print_function\n",
    "import tensorflow as tf\n",
    "import numpy as np\n",
    "from deep_visual_odometry.kitti_utils import KITTIdata\n",
    "from matplotlib import pyplot as plt\n",
    "import pickle"
   ]
  },
  {
   "cell_type": "code",
   "execution_count": 3,
   "metadata": {},
   "outputs": [],
   "source": [
    "basedir = 'dataset'"
   ]
  },
  {
   "cell_type": "code",
   "execution_count": 4,
   "metadata": {},
   "outputs": [],
   "source": [
    "from deep_visual_odometry.odometry_model import OdomModel"
   ]
  },
  {
   "cell_type": "code",
   "execution_count": 5,
   "metadata": {},
   "outputs": [],
   "source": [
    "batch_size = 128         # Sequences per batch\n",
    "num_steps = 16         # Number of sequence steps per batch\n",
    "rnn_size = 128          # Size of hidden layers in rnn_cell\n",
    "num_layers = 1           # Number of hidden layers\n",
    "learning_rate = 0.001   #learning rate"
   ]
  },
  {
   "cell_type": "code",
   "execution_count": 6,
   "metadata": {},
   "outputs": [
    {
     "name": "stdout",
     "output_type": "stream",
     "text": [
      "completed load sequence 00 data\n",
      "completed load sequence 01 data\n",
      "completed load sequence 02 data\n",
      "completed load sequence 03 data\n",
      "completed load sequence 04 data\n",
      "completed load sequence 05 data\n",
      "completed load sequence 06 data\n",
      "completed load sequence 07 data\n",
      "completed load sequence 08 data\n"
     ]
    }
   ],
   "source": [
    "kitti_data = KITTIdata(basedir, \n",
    "                       sequences = ['00', '01', '02', '03','04','05','06','07','08'],\n",
    "                       sequence_len = num_steps,\n",
    "                       val_frac = 0,\n",
    "                       test_frac = 0,\n",
    "                       img_size=(150,50))"
   ]
  },
  {
   "cell_type": "code",
   "execution_count": 7,
   "metadata": {},
   "outputs": [
    {
     "name": "stdout",
     "output_type": "stream",
     "text": [
      "normalized data\n"
     ]
    }
   ],
   "source": [
    "kitti_data.normalize()"
   ]
  },
  {
   "cell_type": "code",
   "execution_count": 62,
   "metadata": {},
   "outputs": [
    {
     "name": "stdout",
     "output_type": "stream",
     "text": [
      "output size (128, 16, 128)\n",
      "seq_output shape (128, 16, 128)\n",
      "shape of outputs (128, 16, 3)\n",
      "shape of targets (128, 16, 3)\n",
      "step: 25  loss: 0.3983  0.6675 sec/batch\n",
      "step: 50  loss: 0.2978  0.6676 sec/batch\n",
      "step: 75  loss: 0.2456  0.5912 sec/batch\n",
      "step: 100  loss: 0.2180  0.5406 sec/batch\n",
      "step: 125  loss: 0.1814  0.5477 sec/batch\n",
      "step: 150  loss: 0.1780  0.5413 sec/batch\n",
      "step: 175  loss: 0.1672  0.5471 sec/batch\n",
      "step: 200  loss: 0.1600  0.5343 sec/batch\n",
      "step: 225  loss: 0.1536  0.5276 sec/batch\n",
      "step: 250  loss: 0.1434  0.5280 sec/batch\n",
      "step: 275  loss: 0.1419  0.8800 sec/batch\n",
      "step: 300  loss: 0.1336  0.6028 sec/batch\n",
      "step: 325  loss: 0.1354  0.5554 sec/batch\n",
      "step: 350  loss: 0.1418  0.5649 sec/batch\n",
      "step: 375  loss: 0.1354  0.5582 sec/batch\n",
      "step: 400  loss: 0.1239  0.6086 sec/batch\n",
      "step: 425  loss: 0.1167  0.6005 sec/batch\n",
      "step: 450  loss: 0.1304  0.5895 sec/batch\n",
      "step: 475  loss: 0.1203  0.5383 sec/batch\n",
      "step: 500  loss: 0.1220  0.5161 sec/batch\n",
      "step: 525  loss: 0.1160  0.5096 sec/batch\n",
      "step: 550  loss: 0.1262  0.5480 sec/batch\n",
      "step: 575  loss: 0.1198  0.5486 sec/batch\n",
      "step: 600  loss: 0.1092  0.5560 sec/batch\n",
      "step: 625  loss: 0.1186  0.4942 sec/batch\n",
      "step: 650  loss: 0.1099  0.5518 sec/batch\n",
      "step: 675  loss: 0.1163  0.5356 sec/batch\n",
      "step: 700  loss: 0.1178  0.5472 sec/batch\n",
      "step: 725  loss: 0.1138  0.5491 sec/batch\n",
      "step: 750  loss: 0.1075  0.5235 sec/batch\n",
      "step: 775  loss: 0.1220  0.5426 sec/batch\n",
      "step: 800  loss: 0.1190  0.5446 sec/batch\n",
      "step: 825  loss: 0.1115  0.5488 sec/batch\n",
      "step: 850  loss: 0.1168  0.5683 sec/batch\n",
      "step: 875  loss: 0.1253  0.5495 sec/batch\n",
      "step: 900  loss: 0.1216  0.6099 sec/batch\n",
      "step: 925  loss: 0.1122  0.5976 sec/batch\n",
      "step: 950  loss: 0.1192  0.6449 sec/batch\n",
      "step: 975  loss: 0.1110  0.5342 sec/batch\n",
      "step: 1000  loss: 0.1144  0.5076 sec/batch\n",
      "step: 1025  loss: 0.1030  0.5481 sec/batch\n",
      "step: 1050  loss: 0.1078  0.5451 sec/batch\n",
      "step: 1075  loss: 0.1020  0.5385 sec/batch\n",
      "step: 1100  loss: 0.1088  0.5457 sec/batch\n",
      "step: 1125  loss: 0.1102  0.5529 sec/batch\n",
      "step: 1150  loss: 0.1045  0.5502 sec/batch\n",
      "step: 1175  loss: 0.1079  0.5437 sec/batch\n",
      "step: 1200  loss: 0.1086  0.5971 sec/batch\n",
      "step: 1225  loss: 0.1164  0.5469 sec/batch\n",
      "step: 1250  loss: 0.1035  0.6822 sec/batch\n",
      "step: 1275  loss: 0.1175  0.5438 sec/batch\n",
      "step: 1300  loss: 0.1110  0.5053 sec/batch\n",
      "step: 1325  loss: 0.1114  0.5350 sec/batch\n",
      "step: 1350  loss: 0.1126  0.5169 sec/batch\n",
      "step: 1375  loss: 0.1060  0.6712 sec/batch\n",
      "step: 1400  loss: 0.1031  0.5300 sec/batch\n",
      "step: 1425  loss: 0.1089  1.0567 sec/batch\n",
      "step: 1450  loss: 0.1085  0.5403 sec/batch\n",
      "step: 1475  loss: 0.1154  0.5180 sec/batch\n",
      "step: 1500  loss: 0.1145  0.5414 sec/batch\n"
     ]
    }
   ],
   "source": [
    "model = OdomModel(batch_size = batch_size, \n",
    "                  num_steps = num_steps,\n",
    "                  cell_type = 'LSTM',\n",
    "                  rnn_size = rnn_size,\n",
    "                  num_layers = num_layers,\n",
    "                  learning_rate = learning_rate)\n",
    "LSTM_loss = model.train(kitti_data, max_count = 1500, save_every_n = 500, sequences = ['00', '02', '05', '08'])"
   ]
  },
  {
   "cell_type": "code",
   "execution_count": 63,
   "metadata": {},
   "outputs": [
    {
     "data": {
      "text/plain": [
       "<matplotlib.legend.Legend at 0x7f54ac15f9e8>"
      ]
     },
     "execution_count": 63,
     "metadata": {},
     "output_type": "execute_result"
    },
    {
     "data": {
      "image/png": "[encoded data removed]",
      "text/plain": [
       "<Figure size 432x288 with 1 Axes>"
      ]
     },
     "metadata": {},
     "output_type": "display_data"
    }
   ],
   "source": [
    "plt.plot(loss,label = 'GRU loss')\n",
    "plt.plot(LSTM_loss,label = 'LSTM loss')\n",
    "plt.legend()"
   ]
  },
  {
   "cell_type": "code",
   "execution_count": 64,
   "metadata": {},
   "outputs": [
    {
     "name": "stdout",
     "output_type": "stream",
     "text": [
      "output size (1, 1, 128)\n",
      "seq_output shape (1, 1, 128)\n",
      "shape of outputs (1, 1, 3)\n",
      "shape of targets (1, 1, 3)\n"
     ]
    }
   ],
   "source": [
    "model = OdomModel(batch_size = batch_size, \n",
    "                  num_steps = num_steps,\n",
    "                  cell_type = 'LSTM',\n",
    "                  rnn_size = rnn_size,\n",
    "                  num_layers = num_layers,\n",
    "                  learning_rate = learning_rate,\n",
    "                  sampling = True)"
   ]
  },
  {
   "cell_type": "code",
   "execution_count": 75,
   "metadata": {},
   "outputs": [
    {
     "data": {
      "text/plain": [
       "(1100, 5)"
      ]
     },
     "execution_count": 75,
     "metadata": {},
     "output_type": "execute_result"
    }
   ],
   "source": [
    "inputs, inter_inputs, targets = kitti_data.get_full_sequence(sequence = '07')\n",
    "inter_inputs.shape"
   ]
  },
  {
   "cell_type": "code",
   "execution_count": 76,
   "metadata": {},
   "outputs": [
    {
     "name": "stdout",
     "output_type": "stream",
     "text": [
      "INFO:tensorflow:Restoring parameters from checkpoints/i1501_l128.ckpt\n"
     ]
    },
    {
     "data": {
      "text/plain": [
       "(1100, 3)"
      ]
     },
     "execution_count": 76,
     "metadata": {},
     "output_type": "execute_result"
    }
   ],
   "source": [
    "checkpoint = tf.train.latest_checkpoint('checkpoints')\n",
    "predictions = model.test(checkpoint, inter_inputs, priming_len = inter_inputs.shape[0])\n",
    "predictions.shape"
   ]
  },
  {
   "cell_type": "code",
   "execution_count": 77,
   "metadata": {},
   "outputs": [],
   "source": [
    "predictions = predictions*kitti_data.pose_std+kitti_data.pose_mean\n",
    "targets = targets*kitti_data.pose_std+kitti_data.pose_mean"
   ]
  },
  {
   "cell_type": "code",
   "execution_count": 78,
   "metadata": {},
   "outputs": [
    {
     "data": {
      "text/plain": [
       "Text(0,0.5,'y')"
      ]
     },
     "execution_count": 78,
     "metadata": {},
     "output_type": "execute_result"
    },
    {
     "data": {
      "image/png": "[encoded data removed]",
      "text/plain": [
       "<Figure size 432x288 with 1 Axes>"
      ]
     },
     "metadata": {},
     "output_type": "display_data"
    }
   ],
   "source": [
    "plt.plot(predictions[:,0],predictions[:,1],label = 'estimate')\n",
    "plt.plot(targets[:,0],targets[:,1],label = 'ground truth')\n",
    "plt.legend()\n",
    "plt.xlabel('x')\n",
    "plt.ylabel('y')"
   ]
  },
  {
   "cell_type": "code",
   "execution_count": 74,
   "metadata": {},
   "outputs": [
    {
     "name": "stdout",
     "output_type": "stream",
     "text": [
      "error for x: 0.02855048516357047 m\n",
      "error for y: 0.014711202486260778 m\n",
      "error for x: 0.0017715975248402654 rad\n"
     ]
    }
   ],
   "source": [
    "error_x = np.linalg.norm(predictions[:,0]-targets[:,0])/targets.shape[0]\n",
    "error_y = np.linalg.norm(predictions[:,1]-targets[:,1])/targets.shape[0] \n",
    "error_theta = np.linalg.norm(predictions[:,2]-targets[:,2])/targets.shape[0] \n",
    "print(f'error for x: {error_x} m')\n",
    "print(f'error for y: {error_y} m')\n",
    "print(f'error for x: {error_theta} rad')\n"
   ]
  },
  {
   "cell_type": "code",
   "execution_count": null,
   "metadata": {},
   "outputs": [],
   "source": []
  }
 ],
 "metadata": {
  "kernelspec": {
   "display_name": "Python 3",
   "language": "python",
   "name": "python3"
  },
  "language_info": {
   "codemirror_mode": {
    "name": "ipython",
    "version": 3
   },
   "file_extension": ".py",
   "mimetype": "text/x-python",
   "name": "python",
   "nbconvert_exporter": "python",
   "pygments_lexer": "ipython3",
   "version": "3.6.5"
  }
 },
 "nbformat": 4,
 "nbformat_minor": 2
}
