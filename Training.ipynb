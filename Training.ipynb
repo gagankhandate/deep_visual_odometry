{
 "cells": [
  {
   "cell_type": "code",
   "execution_count": 1,
   "metadata": {},
   "outputs": [],
   "source": [
    "% matplotlib inline\n",
    "% load_ext autoreload\n",
    "% autoreload 2"
   ]
  },
  {
   "cell_type": "code",
   "execution_count": 2,
   "metadata": {},
   "outputs": [],
   "source": [
    "from __future__ import print_function\n",
    "import tensorflow as tf\n",
    "import numpy as np\n",
    "from deep_visual_odometry.kitti_utils import KITTIdata\n",
    "from matplotlib import pyplot as plt"
   ]
  },
  {
   "cell_type": "code",
   "execution_count": 3,
   "metadata": {},
   "outputs": [
    {
     "name": "stdout",
     "output_type": "stream",
     "text": [
      "completed load sequence 00 data\n",
      "completed load sequence 01 data\n"
     ]
    }
   ],
   "source": [
    "basedir = 'dataset'\n",
    "kitti_data = KITTIdata(basedir, sequences = ['00','01'], img_size=(150,50))"
   ]
  },
  {
   "cell_type": "code",
   "execution_count": 4,
   "metadata": {},
   "outputs": [],
   "source": [
    "inputs, velocities = kitti_data.load_data_input_model()"
   ]
  },
  {
   "cell_type": "code",
   "execution_count": 22,
   "metadata": {},
   "outputs": [
    {
     "name": "stdout",
     "output_type": "stream",
     "text": [
      "(5076, 50, 150, 6)\n",
      "(5076, 2)\n",
      "<class 'numpy.float64'>\n",
      "(564, 50, 150, 6)\n",
      "(564, 2)\n"
     ]
    }
   ],
   "source": [
    "np.random.seed(100)\n",
    "mask = np.arange(inputs.shape[0])\n",
    "np.random.shuffle(mask)\n",
    "inputs = inputs[mask]\n",
    "velocities = velocities[mask]\n",
    "num_validation = int(inputs.shape[0]/10)\n",
    "num_training = inputs.shape[0] - num_validation\n",
    "\n",
    "X_train, y_train = inputs[:num_training], velocities[:num_training]\n",
    "X_val, y_val = inputs[num_training:], velocities[num_training:]\n",
    "\n",
    "mean_image = np.mean(X_train, axis = 0)\n",
    "std_image = np.std(X_train, axis = 0)\n",
    "\n",
    "\n",
    "X_train = X_train.astype(np.float32) - mean_image.astype(np.float32)\n",
    "X_val = X_val.astype(np.float32) - mean_image.astype(np.float32)\n",
    "\n",
    "X_train /= 255\n",
    "X_val /= 255\n",
    "\n",
    "'''\n",
    "mean_y = np.mean(y_train, axis = 0)\n",
    "std_y = np.std(y_train, axis = 0)\n",
    "\n",
    "y_train = y_train - mean_y\n",
    "y_val = y_val - mean_y\n",
    "\n",
    "y_train /= std_y\n",
    "y_val /=std_y\n",
    "'''\n",
    "\n",
    "print(X_train.shape)\n",
    "print(y_train.shape)\n",
    "print(type(y_train[0,0]))\n",
    "print(X_val.shape)\n",
    "print(y_val.shape)"
   ]
  },
  {
   "cell_type": "code",
   "execution_count": 60,
   "metadata": {},
   "outputs": [
    {
     "name": "stdout",
     "output_type": "stream",
     "text": [
      "Building velocity CNN. Parameters: \n",
      "conv_featmap=[16, 16, 16, 16]\n",
      "fc_units=[128, 128]\n",
      "conv_kernel_size=[7, 5, 5, 5]\n",
      "pooling_size=[2, 2, 2, 2]\n",
      "l2_norm=0.01\n",
      "seed=235\n",
      "learning_rate=0.01\n",
      "number of batches for training: 203\n",
      "epoch 1 \n",
      "Best validation mse! iteration:100 val_mse: 0.05934640020132065\n",
      "epoch 2 \n",
      "Best validation mse! iteration:300 val_mse: 0.05594111233949661\n",
      "Best validation mse! iteration:400 val_mse: 0.049672793596982956\n",
      "epoch 3 \n",
      "epoch 4 \n",
      "epoch 5 \n",
      "Best validation mse! iteration:900 val_mse: 0.043622180819511414\n",
      "epoch 6 \n",
      "epoch 7 \n",
      "epoch 8 \n",
      "Best validation mse! iteration:1500 val_mse: 0.042262718081474304\n",
      "epoch 9 \n",
      "epoch 10 \n",
      "epoch 11 \n",
      "epoch 12 \n",
      "Best validation mse! iteration:2300 val_mse: 0.04090212285518646\n",
      "Best validation mse! iteration:2400 val_mse: 0.040821172297000885\n",
      "epoch 13 \n",
      "epoch 14 \n",
      "epoch 15 \n",
      "epoch 16 \n",
      "epoch 17 \n",
      "epoch 18 \n",
      "epoch 19 \n",
      "epoch 20 \n",
      "Best validation mse! iteration:3900 val_mse: 0.03974459320306778\n",
      "Traning ends. The best valid mse is 0.03974459320306778. Model named CNN_Velocity_Model.\n"
     ]
    }
   ],
   "source": [
    "from deep_visual_odometry.input_model import training\n",
    "tf.reset_default_graph()\n",
    "training(X_train, y_train, X_val, y_val, \n",
    "         conv_featmap=[16,16,16,16],\n",
    "         fc_units=[128,128],\n",
    "         conv_kernel_size=[7,5,5,5],\n",
    "         pooling_size=[2,2,2,2],\n",
    "         l2_norm=0.01,\n",
    "         seed=235,\n",
    "         learning_rate=1e-2,\n",
    "         epoch=20,\n",
    "         batch_size=25,\n",
    "         verbose=False,\n",
    "         pre_trained_model=None)"
   ]
  },
  {
   "cell_type": "code",
   "execution_count": 61,
   "metadata": {},
   "outputs": [
    {
     "name": "stdout",
     "output_type": "stream",
     "text": [
      "(1, 50, 150, 6)\n",
      "INFO:tensorflow:Restoring parameters from model/CNN_Velocity_Model\n",
      "[[ 0.778116  -1.0440965]]\n",
      "[[2.00915029e+00 1.60940100e-05]]\n"
     ]
    }
   ],
   "source": [
    "from deep_visual_odometry.input_model import test_input_model\n",
    "print(X_val[20:21].shape)\n",
    "out = test_input_model(\"CNN_Velocity_Model\",X_val[20:21],y_val[20:21])\n",
    "print(out)\n",
    "print(y_val[20:21])"
   ]
  },
  {
   "cell_type": "code",
   "execution_count": 62,
   "metadata": {},
   "outputs": [
    {
     "name": "stdout",
     "output_type": "stream",
     "text": [
      "INFO:tensorflow:Restoring parameters from model/CNN_Velocity_Model\n"
     ]
    }
   ],
   "source": [
    "out = test_input_model(\"CNN_Velocity_Model\",X_val,y_val)"
   ]
  },
  {
   "cell_type": "code",
   "execution_count": 63,
   "metadata": {},
   "outputs": [
    {
     "data": {
      "image/png": "[encoded data removed]",
      "text/plain": [
       "<Figure size 432x288 with 1 Axes>"
      ]
     },
     "metadata": {},
     "output_type": "display_data"
    }
   ],
   "source": [
    "plt.scatter(y_val[:,0],out[:,0])\n",
    "plt.show()"
   ]
  },
  {
   "cell_type": "code",
   "execution_count": 64,
   "metadata": {},
   "outputs": [
    {
     "data": {
      "image/png": "[encoded data removed]",
      "text/plain": [
       "<Figure size 432x288 with 1 Axes>"
      ]
     },
     "metadata": {},
     "output_type": "display_data"
    }
   ],
   "source": [
    "plt.scatter(y_val[:,1],out[:,1])\n",
    "plt.show()"
   ]
  },
  {
   "cell_type": "code",
   "execution_count": 65,
   "metadata": {},
   "outputs": [
    {
     "data": {
      "text/plain": [
       "array([-1.0440965, -1.0440965, -1.0440965, -1.0440965, -1.0440965,\n",
       "       -1.0440965, -1.0440965, -1.0440965, -1.0440965, -1.0440965,\n",
       "       -1.0440965, -1.0440965, -1.0440965, -1.0440965, -1.0440965,\n",
       "       -1.0440965, -1.0440965, -1.0440965, -1.0440965, -1.0440965,\n",
       "       -1.0440965, -1.0440965, -1.0440965, -1.0440965, -1.0440965,\n",
       "       -1.0440965, -1.0440965, -1.0440965, -1.0440965, -1.0440965,\n",
       "       -1.0440965, -1.0440965, -1.0440965, -1.0440965, -1.0440965,\n",
       "       -1.0440965, -1.0440965, -1.0440965, -1.0440965, -1.0440965,\n",
       "       -1.0440965, -1.0440965, -1.0440965, -1.0440965, -1.0440965,\n",
       "       -1.0440965, -1.0440965, -1.0440965, -1.0440965, -1.0440965,\n",
       "       -1.0440965, -1.0440965, -1.0440965, -1.0440965, -1.0440965,\n",
       "       -1.0440965, -1.0440965, -1.0440965, -1.0440965, -1.0440965,\n",
       "       -1.0440965, -1.0440965, -1.0440965, -1.0440965, -1.0440965,\n",
       "       -1.0440965, -1.0440965, -1.0440965, -1.0440965, -1.0440965,\n",
       "       -1.0440965, -1.0440965, -1.0440965, -1.0440965, -1.0440965,\n",
       "       -1.0440965, -1.0440965, -1.0440965, -1.0440965, -1.0440965,\n",
       "       -1.0440965, -1.0440965, -1.0440965, -1.0440965, -1.0440965,\n",
       "       -1.0440965, -1.0440965, -1.0440965, -1.0440965, -1.0440965,\n",
       "       -1.0440965, -1.0440965, -1.0440965, -1.0440965, -1.0440965,\n",
       "       -1.0440965, -1.0440965, -1.0440965, -1.0440965, -1.0440965,\n",
       "       -1.0440965, -1.0440965, -1.0440965, -1.0440965, -1.0440965,\n",
       "       -1.0440965, -1.0440965, -1.0440965, -1.0440965, -1.0440965,\n",
       "       -1.0440965, -1.0440965, -1.0440965, -1.0440965, -1.0440965,\n",
       "       -1.0440965, -1.0440965, -1.0440965, -1.0440965, -1.0440965,\n",
       "       -1.0440965, -1.0440965, -1.0440965, -1.0440965, -1.0440965,\n",
       "       -1.0440965, -1.0440965, -1.0440965, -1.0440965, -1.0440965,\n",
       "       -1.0440965, -1.0440965, -1.0440965, -1.0440965, -1.0440965,\n",
       "       -1.0440965, -1.0440965, -1.0440965, -1.0440965, -1.0440965,\n",
       "       -1.0440965, -1.0440965, -1.0440965, -1.0440965, -1.0440965,\n",
       "       -1.0440965, -1.0440965, -1.0440965, -1.0440965, -1.0440965,\n",
       "       -1.0440965, -1.0440965, -1.0440965, -1.0440965, -1.0440965,\n",
       "       -1.0440965, -1.0440965, -1.0440965, -1.0440965, -1.0440965,\n",
       "       -1.0440965, -1.0440965, -1.0440965, -1.0440965, -1.0440965,\n",
       "       -1.0440965, -1.0440965, -1.0440965, -1.0440965, -1.0440965,\n",
       "       -1.0440965, -1.0440965, -1.0440965, -1.0440965, -1.0440965,\n",
       "       -1.0440965, -1.0440965, -1.0440965, -1.0440965, -1.0440965,\n",
       "       -1.0440965, -1.0440965, -1.0440965, -1.0440965, -1.0440965,\n",
       "       -1.0440965, -1.0440965, -1.0440965, -1.0440965, -1.0440965,\n",
       "       -1.0440965, -1.0440965, -1.0440965, -1.0440965, -1.0440965,\n",
       "       -1.0440965, -1.0440965, -1.0440965, -1.0440965, -1.0440965,\n",
       "       -1.0440965, -1.0440965, -1.0440965, -1.0440965, -1.0440965,\n",
       "       -1.0440965, -1.0440965, -1.0440965, -1.0440965, -1.0440965,\n",
       "       -1.0440965, -1.0440965, -1.0440965, -1.0440965, -1.0440965,\n",
       "       -1.0440965, -1.0440965, -1.0440965, -1.0440965, -1.0440965,\n",
       "       -1.0440965, -1.0440965, -1.0440965, -1.0440965, -1.0440965,\n",
       "       -1.0440965, -1.0440965, -1.0440965, -1.0440965, -1.0440965,\n",
       "       -1.0440965, -1.0440965, -1.0440965, -1.0440965, -1.0440965,\n",
       "       -1.0440965, -1.0440965, -1.0440965, -1.0440965, -1.0440965,\n",
       "       -1.0440965, -1.0440965, -1.0440965, -1.0440965, -1.0440965,\n",
       "       -1.0440965, -1.0440965, -1.0440965, -1.0440965, -1.0440965,\n",
       "       -1.0440965, -1.0440965, -1.0440965, -1.0440965, -1.0440965,\n",
       "       -1.0440965, -1.0440965, -1.0440965, -1.0440965, -1.0440965,\n",
       "       -1.0440965, -1.0440965, -1.0440965, -1.0440965, -1.0440965,\n",
       "       -1.0440965, -1.0440965, -1.0440965, -1.0440965, -1.0440965,\n",
       "       -1.0440965, -1.0440965, -1.0440965, -1.0440965, -1.0440965,\n",
       "       -1.0440965, -1.0440965, -1.0440965, -1.0440965, -1.0440965,\n",
       "       -1.0440965, -1.0440965, -1.0440965, -1.0440965, -1.0440965,\n",
       "       -1.0440965, -1.0440965, -1.0440965, -1.0440965, -1.0440965,\n",
       "       -1.0440965, -1.0440965, -1.0440965, -1.0440965, -1.0440965,\n",
       "       -1.0440965, -1.0440965, -1.0440965, -1.0440965, -1.0440965,\n",
       "       -1.0440965, -1.0440965, -1.0440965, -1.0440965, -1.0440965,\n",
       "       -1.0440965, -1.0440965, -1.0440965, -1.0440965, -1.0440965,\n",
       "       -1.0440965, -1.0440965, -1.0440965, -1.0440965, -1.0440965,\n",
       "       -1.0440965, -1.0440965, -1.0440965, -1.0440965, -1.0440965,\n",
       "       -1.0440965, -1.0440965, -1.0440965, -1.0440965, -1.0440965,\n",
       "       -1.0440965, -1.0440965, -1.0440965, -1.0440965, -1.0440965,\n",
       "       -1.0440965, -1.0440965, -1.0440965, -1.0440965, -1.0440965,\n",
       "       -1.0440965, -1.0440965, -1.0440965, -1.0440965, -1.0440965,\n",
       "       -1.0440965, -1.0440965, -1.0440965, -1.0440965, -1.0440965,\n",
       "       -1.0440965, -1.0440965, -1.0440965, -1.0440965, -1.0440965,\n",
       "       -1.0440965, -1.0440965, -1.0440965, -1.0440965, -1.0440965,\n",
       "       -1.0440965, -1.0440965, -1.0440965, -1.0440965, -1.0440965,\n",
       "       -1.0440965, -1.0440965, -1.0440965, -1.0440965, -1.0440965,\n",
       "       -1.0440965, -1.0440965, -1.0440965, -1.0440965, -1.0440965,\n",
       "       -1.0440965, -1.0440965, -1.0440965, -1.0440965, -1.0440965,\n",
       "       -1.0440965, -1.0440965, -1.0440965, -1.0440965, -1.0440965,\n",
       "       -1.0440965, -1.0440965, -1.0440965, -1.0440965, -1.0440965,\n",
       "       -1.0440965, -1.0440965, -1.0440965, -1.0440965, -1.0440965,\n",
       "       -1.0440965, -1.0440965, -1.0440965, -1.0440965, -1.0440965,\n",
       "       -1.0440965, -1.0440965, -1.0440965, -1.0440965, -1.0440965,\n",
       "       -1.0440965, -1.0440965, -1.0440965, -1.0440965, -1.0440965,\n",
       "       -1.0440965, -1.0440965, -1.0440965, -1.0440965, -1.0440965,\n",
       "       -1.0440965, -1.0440965, -1.0440965, -1.0440965, -1.0440965,\n",
       "       -1.0440965, -1.0440965, -1.0440965, -1.0440965, -1.0440965,\n",
       "       -1.0440965, -1.0440965, -1.0440965, -1.0440965, -1.0440965,\n",
       "       -1.0440965, -1.0440965, -1.0440965, -1.0440965, -1.0440965,\n",
       "       -1.0440965, -1.0440965, -1.0440965, -1.0440965, -1.0440965,\n",
       "       -1.0440965, -1.0440965, -1.0440965, -1.0440965, -1.0440965,\n",
       "       -1.0440965, -1.0440965, -1.0440965, -1.0440965, -1.0440965,\n",
       "       -1.0440965, -1.0440965, -1.0440965, -1.0440965, -1.0440965,\n",
       "       -1.0440965, -1.0440965, -1.0440965, -1.0440965, -1.0440965,\n",
       "       -1.0440965, -1.0440965, -1.0440965, -1.0440965, -1.0440965,\n",
       "       -1.0440965, -1.0440965, -1.0440965, -1.0440965, -1.0440965,\n",
       "       -1.0440965, -1.0440965, -1.0440965, -1.0440965, -1.0440965,\n",
       "       -1.0440965, -1.0440965, -1.0440965, -1.0440965, -1.0440965,\n",
       "       -1.0440965, -1.0440965, -1.0440965, -1.0440965, -1.0440965,\n",
       "       -1.0440965, -1.0440965, -1.0440965, -1.0440965, -1.0440965,\n",
       "       -1.0440965, -1.0440965, -1.0440965, -1.0440965, -1.0440965,\n",
       "       -1.0440965, -1.0440965, -1.0440965, -1.0440965, -1.0440965,\n",
       "       -1.0440965, -1.0440965, -1.0440965, -1.0440965, -1.0440965,\n",
       "       -1.0440965, -1.0440965, -1.0440965, -1.0440965, -1.0440965,\n",
       "       -1.0440965, -1.0440965, -1.0440965, -1.0440965, -1.0440965,\n",
       "       -1.0440965, -1.0440965, -1.0440965, -1.0440965, -1.0440965,\n",
       "       -1.0440965, -1.0440965, -1.0440965, -1.0440965, -1.0440965,\n",
       "       -1.0440965, -1.0440965, -1.0440965, -1.0440965, -1.0440965,\n",
       "       -1.0440965, -1.0440965, -1.0440965, -1.0440965, -1.0440965,\n",
       "       -1.0440965, -1.0440965, -1.0440965, -1.0440965, -1.0440965,\n",
       "       -1.0440965, -1.0440965, -1.0440965, -1.0440965, -1.0440965,\n",
       "       -1.0440965, -1.0440965, -1.0440965, -1.0440965, -1.0440965,\n",
       "       -1.0440965, -1.0440965, -1.0440965, -1.0440965, -1.0440965,\n",
       "       -1.0440965, -1.0440965, -1.0440965, -1.0440965, -1.0440965,\n",
       "       -1.0440965, -1.0440965, -1.0440965, -1.0440965, -1.0440965,\n",
       "       -1.0440965, -1.0440965, -1.0440965, -1.0440965], dtype=float32)"
      ]
     },
     "execution_count": 65,
     "metadata": {},
     "output_type": "execute_result"
    }
   ],
   "source": [
    "out[:,1]"
   ]
  },
  {
   "cell_type": "code",
   "execution_count": null,
   "metadata": {},
   "outputs": [],
   "source": []
  }
 ],
 "metadata": {
  "kernelspec": {
   "display_name": "Python 3",
   "language": "python",
   "name": "python3"
  },
  "language_info": {
   "codemirror_mode": {
    "name": "ipython",
    "version": 3
   },
   "file_extension": ".py",
   "mimetype": "text/x-python",
   "name": "python",
   "nbconvert_exporter": "python",
   "pygments_lexer": "ipython3",
   "version": "3.6.5"
  }
 },
 "nbformat": 4,
 "nbformat_minor": 2
}
