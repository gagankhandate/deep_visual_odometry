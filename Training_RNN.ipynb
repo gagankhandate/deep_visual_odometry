{
 "cells": [
  {
   "cell_type": "code",
   "execution_count": 18,
   "metadata": {},
   "outputs": [
    {
     "name": "stdout",
     "output_type": "stream",
     "text": [
      "The autoreload extension is already loaded. To reload it, use:\n",
      "  %reload_ext autoreload\n"
     ]
    }
   ],
   "source": [
    "% matplotlib inline\n",
    "% load_ext autoreload\n",
    "% autoreload 2"
   ]
  },
  {
   "cell_type": "code",
   "execution_count": 19,
   "metadata": {},
   "outputs": [],
   "source": [
    "from __future__ import print_function\n",
    "import tensorflow as tf\n",
    "import numpy as np\n",
    "from deep_visual_odometry.kitti_utils import KITTIdata\n",
    "from matplotlib import pyplot as plt"
   ]
  },
  {
   "cell_type": "code",
   "execution_count": 20,
   "metadata": {},
   "outputs": [],
   "source": [
    "basedir = 'dataset'"
   ]
  },
  {
   "cell_type": "code",
   "execution_count": 21,
   "metadata": {},
   "outputs": [],
   "source": [
    "from deep_visual_odometry.odometry_model import OdomModel"
   ]
  },
  {
   "cell_type": "code",
   "execution_count": 22,
   "metadata": {},
   "outputs": [],
   "source": [
    "batch_size = 256         # Sequences per batch\n",
    "num_steps = 8         # Number of sequence steps per batch\n",
    "rnn_size = 64          # Size of hidden layers in rnn_cell\n",
    "num_layers = 2           # Number of hidden layers\n",
    "learning_rate = 0.001"
   ]
  },
  {
   "cell_type": "code",
   "execution_count": 23,
   "metadata": {},
   "outputs": [
    {
     "name": "stdout",
     "output_type": "stream",
     "text": [
      "completed load sequence 01 data\n"
     ]
    }
   ],
   "source": [
    "kitti_data = KITTIdata(basedir, \n",
    "                       sequences = ['01'],\n",
    "                       sequence_len = num_steps,\n",
    "                       val_frac = 0,\n",
    "                       test_frac = 0,\n",
    "                       img_size=(150,50))"
   ]
  },
  {
   "cell_type": "code",
   "execution_count": 25,
   "metadata": {},
   "outputs": [],
   "source": [
    "mean_velo = np.mean(kitti_data.velocities['01'],axis = 0)\n",
    "std_velo = np.std(kitti_data.velocities['01'],axis = 0)\n",
    "\n",
    "mean_poses = np.mean(kitti_data.poses['01'],axis = 0)\n",
    "std_poses = np.std(kitti_data.poses['01'],axis = 0)"
   ]
  },
  {
   "cell_type": "code",
   "execution_count": 26,
   "metadata": {},
   "outputs": [],
   "source": [
    "kitti_data.velocities['01'] = kitti_data.velocities['01']-mean_velo\n",
    "kitti_data.velocities['01'] /= std_velo"
   ]
  },
  {
   "cell_type": "code",
   "execution_count": 27,
   "metadata": {},
   "outputs": [],
   "source": [
    "kitti_data.poses['01'] = kitti_data.poses['01']-mean_poses\n",
    "kitti_data.poses['01'] /= std_poses"
   ]
  },
  {
   "cell_type": "code",
   "execution_count": null,
   "metadata": {},
   "outputs": [
    {
     "name": "stdout",
     "output_type": "stream",
     "text": [
      "output size (256, 8, 128)\n",
      "seq_output shape (256, 8, 128)\n",
      "shape of outputs (256, 8, 3)\n",
      "shape of targets (256, 8, 3)\n",
      "step: 500  loss: 0.3897  0.1069 sec/batch\n",
      "step: 1000  loss: 0.3602  0.1081 sec/batch\n",
      "step: 1500  loss: 0.3295  0.0917 sec/batch\n",
      "step: 2000  loss: 0.3208  0.0926 sec/batch\n",
      "step: 2500  loss: 0.2966  0.1083 sec/batch\n",
      "step: 3000  loss: 0.2584  0.0926 sec/batch\n"
     ]
    }
   ],
   "source": [
    "model = OdomModel(batch_size = 256, \n",
    "                  num_steps = 8,\n",
    "                  cell_type = 'GRU',\n",
    "                  rnn_size = 128,\n",
    "                  num_layers = 2,\n",
    "                  learning_rate = 0.001)\n",
    "model.train(kitti_data, max_count = 10000, save_every_n = 1000)"
   ]
  },
  {
   "cell_type": "code",
   "execution_count": null,
   "metadata": {
    "collapsed": true
   },
   "outputs": [],
   "source": [
    "kitti_data.dataset_len['01']"
   ]
  },
  {
   "cell_type": "code",
   "execution_count": null,
   "metadata": {
    "collapsed": true
   },
   "outputs": [],
   "source": [
    "inputs_train, velocities_train, poses_train = kitti_data.load_data_train()"
   ]
  },
  {
   "cell_type": "code",
   "execution_count": null,
   "metadata": {
    "collapsed": true
   },
   "outputs": [],
   "source": [
    "inputs_train.shape"
   ]
  },
  {
   "cell_type": "code",
   "execution_count": null,
   "metadata": {
    "collapsed": true
   },
   "outputs": [],
   "source": []
  }
 ],
 "metadata": {
  "kernelspec": {
   "display_name": "Python 3",
   "language": "python",
   "name": "python3"
  },
  "language_info": {
   "codemirror_mode": {
    "name": "ipython",
    "version": 3
   },
   "file_extension": ".py",
   "mimetype": "text/x-python",
   "name": "python",
   "nbconvert_exporter": "python",
   "pygments_lexer": "ipython3",
   "version": "3.6.7"
  }
 },
 "nbformat": 4,
 "nbformat_minor": 2
}
