{
 "cells": [
  {
   "cell_type": "code",
   "execution_count": 2,
   "metadata": {},
   "outputs": [],
   "source": [
    "% matplotlib inline\n",
    "% load_ext autoreload\n",
    "% autoreload 2"
   ]
  },
  {
   "cell_type": "code",
   "execution_count": 3,
   "metadata": {},
   "outputs": [],
   "source": [
    "from __future__ import print_function\n",
    "import tensorflow as tf\n",
    "import numpy as np\n",
    "from deep_visual_odometry.kitti_utils import KITTIdata\n",
    "from matplotlib import pyplot as plt"
   ]
  },
  {
   "cell_type": "code",
   "execution_count": 4,
   "metadata": {},
   "outputs": [
    {
     "name": "stdout",
     "output_type": "stream",
     "text": [
      "completed load sequence 00 data\n",
      "completed load sequence 01 data\n"
     ]
    }
   ],
   "source": [
    "basedir = 'dataset'\n",
    "kitti_data = KITTIdata(basedir, sequences = ['00','01'], img_size=(150,50))"
   ]
  },
  {
   "cell_type": "code",
   "execution_count": 5,
   "metadata": {},
   "outputs": [],
   "source": [
    "inputs, velocities = kitti_data.load_data_input_model()"
   ]
  },
  {
   "cell_type": "code",
   "execution_count": 18,
   "metadata": {},
   "outputs": [
    {
     "name": "stdout",
     "output_type": "stream",
     "text": [
      "(5076, 50, 150, 6)\n",
      "(5076, 2)\n",
      "<class 'numpy.float64'>\n",
      "(564, 50, 150, 6)\n",
      "(564, 2)\n"
     ]
    }
   ],
   "source": [
    "np.random.seed(100)\n",
    "mask = np.arange(inputs.shape[0])\n",
    "np.random.shuffle(mask)\n",
    "inputs = inputs[mask]\n",
    "velocities = velocities[mask]\n",
    "num_validation = int(inputs.shape[0]/10)\n",
    "num_training = inputs.shape[0] - num_validation\n",
    "\n",
    "X_train, y_train = inputs[:num_training], velocities[:num_training]\n",
    "X_val, y_val = inputs[num_training:], velocities[num_training:]\n",
    "\n",
    "mean_image = np.mean(X_train, axis=0)\n",
    "X_train = X_train.astype(np.float32) - mean_image.astype(np.float32)\n",
    "X_val = X_val.astype(np.float32) - mean_image\n",
    "\n",
    "X_train /= 255\n",
    "X_val /= 255\n",
    "\n",
    "print(X_train.shape)\n",
    "print(y_train.shape)\n",
    "print(type(y_train[0,0]))\n",
    "print(X_val.shape)\n",
    "print(y_val.shape)"
   ]
  },
  {
   "cell_type": "code",
   "execution_count": 28,
   "metadata": {},
   "outputs": [
    {
     "name": "stdout",
     "output_type": "stream",
     "text": [
      "Building velocity CNN. Parameters: \n",
      "conv_featmap=[16, 16, 16, 16]\n",
      "fc_units=[128, 128]\n",
      "conv_kernel_size=[7, 5, 5, 5]\n",
      "pooling_size=[2, 2, 2, 2]\n",
      "l2_norm=0.01\n",
      "seed=235\n",
      "learning_rate=0.01\n",
      "number of batches for training: 20\n",
      "epoch 1 \n",
      "epoch 2 \n",
      "epoch 3 \n",
      "epoch 4 \n",
      "epoch 5 \n",
      "Best validation mse! iteration:100 accuracy: 0.03897019103169441%\n",
      "epoch 6 \n",
      "epoch 7 \n",
      "epoch 8 \n",
      "epoch 9 \n",
      "epoch 10 \n",
      "Best validation mse! iteration:200 accuracy: 0.03527669236063957%\n",
      "epoch 11 \n",
      "epoch 12 \n",
      "epoch 13 \n",
      "epoch 14 \n",
      "epoch 15 \n",
      "epoch 16 \n",
      "epoch 17 \n",
      "epoch 18 \n",
      "epoch 19 \n",
      "epoch 20 \n",
      "Best validation mse! iteration:400 accuracy: 0.03417903929948807%\n",
      "epoch 21 \n",
      "epoch 22 \n",
      "epoch 23 \n",
      "epoch 24 \n",
      "epoch 25 \n",
      "Best validation mse! iteration:500 accuracy: 0.031099988147616386%\n",
      "epoch 26 \n",
      "epoch 27 \n",
      "epoch 28 \n",
      "epoch 29 \n",
      "epoch 30 \n",
      "epoch 31 \n",
      "epoch 32 \n",
      "epoch 33 \n",
      "epoch 34 \n",
      "epoch 35 \n",
      "epoch 36 \n",
      "epoch 37 \n",
      "epoch 38 \n",
      "epoch 39 \n",
      "epoch 40 \n",
      "epoch 41 \n",
      "epoch 42 \n",
      "epoch 43 \n",
      "epoch 44 \n",
      "epoch 45 \n",
      "epoch 46 \n",
      "epoch 47 \n",
      "epoch 48 \n",
      "epoch 49 \n",
      "epoch 50 \n",
      "epoch 51 \n",
      "epoch 52 \n",
      "epoch 53 \n",
      "epoch 54 \n",
      "epoch 55 \n",
      "Best validation mse! iteration:1100 accuracy: 0.02967432700097561%\n",
      "epoch 56 \n",
      "epoch 57 \n",
      "epoch 58 \n",
      "epoch 59 \n",
      "epoch 60 \n",
      "epoch 61 \n",
      "epoch 62 \n",
      "epoch 63 \n",
      "epoch 64 \n",
      "epoch 65 \n",
      "epoch 66 \n",
      "epoch 67 \n",
      "epoch 68 \n",
      "epoch 69 \n",
      "epoch 70 \n",
      "epoch 71 \n",
      "epoch 72 \n",
      "epoch 73 \n",
      "epoch 74 \n",
      "epoch 75 \n",
      "epoch 76 \n",
      "epoch 77 \n",
      "epoch 78 \n",
      "epoch 79 \n",
      "epoch 80 \n",
      "epoch 81 \n",
      "epoch 82 \n",
      "epoch 83 \n",
      "epoch 84 \n",
      "epoch 85 \n",
      "epoch 86 \n",
      "epoch 87 \n",
      "epoch 88 \n",
      "epoch 89 \n",
      "epoch 90 \n",
      "epoch 91 \n",
      "epoch 92 \n",
      "epoch 93 \n",
      "epoch 94 \n",
      "epoch 95 \n",
      "epoch 96 \n",
      "epoch 97 \n",
      "epoch 98 \n",
      "epoch 99 \n",
      "epoch 100 \n",
      "Traning ends. The best valid accuracy is 0.02967432700097561. Model named CNN_Velocity_Model.\n"
     ]
    }
   ],
   "source": [
    "from deep_visual_odometry.input_model import training\n",
    "tf.reset_default_graph()\n",
    "training(X_train, y_train, X_val, y_val, \n",
    "         conv_featmap=[16,16,16,16],\n",
    "         fc_units=[128,128],\n",
    "         conv_kernel_size=[7,5,5,5],\n",
    "         pooling_size=[2,2,2,2],\n",
    "         l2_norm=0.01,\n",
    "         seed=235,\n",
    "         learning_rate=1e-2,\n",
    "         epoch=100,\n",
    "         batch_size=245,\n",
    "         verbose=False,\n",
    "         pre_trained_model=None)"
   ]
  },
  {
   "cell_type": "code",
   "execution_count": null,
   "metadata": {},
   "outputs": [],
   "source": []
  }
 ],
 "metadata": {
  "kernelspec": {
   "display_name": "Python 3",
   "language": "python",
   "name": "python3"
  },
  "language_info": {
   "codemirror_mode": {
    "name": "ipython",
    "version": 3
   },
   "file_extension": ".py",
   "mimetype": "text/x-python",
   "name": "python",
   "nbconvert_exporter": "python",
   "pygments_lexer": "ipython3",
   "version": "3.6.6"
  }
 },
 "nbformat": 4,
 "nbformat_minor": 2
}
