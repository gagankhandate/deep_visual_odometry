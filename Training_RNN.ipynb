{
 "cells": [
  {
   "cell_type": "code",
   "execution_count": 1,
   "metadata": {},
   "outputs": [],
   "source": [
    "% matplotlib inline\n",
    "% load_ext autoreload\n",
    "% autoreload 2"
   ]
  },
  {
   "cell_type": "code",
   "execution_count": 2,
   "metadata": {},
   "outputs": [],
   "source": [
    "from __future__ import print_function\n",
    "import tensorflow as tf\n",
    "import numpy as np\n",
    "from deep_visual_odometry.kitti_utils import KITTIdata\n",
    "from matplotlib import pyplot as plt"
   ]
  },
  {
   "cell_type": "code",
   "execution_count": 3,
   "metadata": {},
   "outputs": [],
   "source": [
    "basedir = 'dataset'"
   ]
  },
  {
   "cell_type": "code",
   "execution_count": 4,
   "metadata": {},
   "outputs": [],
   "source": [
    "from deep_visual_odometry.odometry_model import OdomModel"
   ]
  },
  {
   "cell_type": "code",
   "execution_count": 5,
   "metadata": {},
   "outputs": [],
   "source": [
    "batch_size = 256         # Sequences per batch\n",
    "num_steps = 8         # Number of sequence steps per batch\n",
    "rnn_size = 64          # Size of hidden layers in rnn_cell\n",
    "num_layers = 2           # Number of hidden layers\n",
    "learning_rate = 0.001"
   ]
  },
  {
   "cell_type": "code",
   "execution_count": 6,
   "metadata": {},
   "outputs": [
    {
     "name": "stdout",
     "output_type": "stream",
     "text": [
      "completed load sequence 01 data\n"
     ]
    }
   ],
   "source": [
    "kitti_data = KITTIdata(basedir, \n",
    "                       sequences = ['01'],\n",
    "                       sequence_len = num_steps,\n",
    "                       val_frac = 0,\n",
    "                       test_frac = 0.1,\n",
    "                       img_size=(150,50))"
   ]
  },
  {
   "cell_type": "code",
   "execution_count": 7,
   "metadata": {},
   "outputs": [],
   "source": [
    "velo = []\n",
    "pose = []\n",
    "for sequence in kitti_data.sequences:\n",
    "    velo.append(kitti_data.velocities[sequence])\n",
    "    pose.append(kitti_data.poses[sequence])\n",
    "velo = np.vstack(velo)\n",
    "pose = np.vstack(pose)\n",
    "\n",
    "mean_velo = np.mean(velo,axis = 0)\n",
    "std_velo = np.std(velo,axis = 0)\n",
    "mean_pose = np.mean(pose,axis = 0)\n",
    "std_pose = np.std(pose,axis = 0)\n"
   ]
  },
  {
   "cell_type": "code",
   "execution_count": 8,
   "metadata": {},
   "outputs": [],
   "source": [
    "for sequence in kitti_data.sequences:\n",
    "    kitti_data.velocities[sequence] = kitti_data.velocities[sequence] - mean_velo\n",
    "    kitti_data.velocities[sequence] /= std_velo\n",
    "    \n",
    "    kitti_data.poses[sequence] = kitti_data.poses[sequence] - mean_pose\n",
    "    kitti_data.poses[sequence] /= std_pose"
   ]
  },
  {
   "cell_type": "code",
   "execution_count": 10,
   "metadata": {},
   "outputs": [
    {
     "name": "stdout",
     "output_type": "stream",
     "text": [
      "output size (256, 8, 128)\n",
      "seq_output shape (256, 8, 128)\n",
      "shape of outputs (256, 8, 3)\n",
      "shape of targets (256, 8, 3)\n",
      "step: 500  loss: 0.4579  0.0809 sec/batch\n"
     ]
    }
   ],
   "source": [
    "model = OdomModel(batch_size = 256, \n",
    "                  num_steps = 8,\n",
    "                  cell_type = 'GRU',\n",
    "                  rnn_size = 128,\n",
    "                  num_layers = 2,\n",
    "                  learning_rate = 0.001)\n",
    "model.train(kitti_data, max_count = 500, save_every_n = 1000)"
   ]
  },
  {
   "cell_type": "code",
   "execution_count": 12,
   "metadata": {},
   "outputs": [],
   "source": [
    "inputs_test, velocities_test, poses_test = kitti_data.load_data_test()"
   ]
  },
  {
   "cell_type": "code",
   "execution_count": 15,
   "metadata": {},
   "outputs": [
    {
     "data": {
      "text/plain": [
       "(109, 8, 2)"
      ]
     },
     "execution_count": 15,
     "metadata": {},
     "output_type": "execute_result"
    }
   ],
   "source": [
    "velocities_test.shape"
   ]
  },
  {
   "cell_type": "code",
   "execution_count": 22,
   "metadata": {},
   "outputs": [
    {
     "name": "stdout",
     "output_type": "stream",
     "text": [
      "INFO:tensorflow:Restoring parameters from checkpoints/i501_l128.ckpt\n"
     ]
    }
   ],
   "source": [
    "checkpoint = tf.train.latest_checkpoint('checkpoints')\n",
    "predictions = model.test(checkpoint,velocities_test, 256)"
   ]
  },
  {
   "cell_type": "code",
   "execution_count": 20,
   "metadata": {},
   "outputs": [
    {
     "data": {
      "text/plain": [
       "(0, 8, 3)"
      ]
     },
     "execution_count": 20,
     "metadata": {},
     "output_type": "execute_result"
    }
   ],
   "source": [
    "predictions.shape"
   ]
  },
  {
   "cell_type": "code",
   "execution_count": null,
   "metadata": {},
   "outputs": [],
   "source": [
    "poses_test[0:512].shape"
   ]
  },
  {
   "cell_type": "code",
   "execution_count": null,
   "metadata": {},
   "outputs": [],
   "source": [
    "i = 2\n",
    "j = 2\n",
    "plt.plot(predictions[i,:, j],label = 'pred')\n",
    "plt.plot(poses_test[i,:, j],label = 'ground truth')\n",
    "plt.legend()\n",
    "plt.xlabel('sequence num')\n",
    "plt.ylabel('theta')\n",
    "#plt.savefig('theta_vs_seq.jpg')\n"
   ]
  },
  {
   "cell_type": "code",
   "execution_count": null,
   "metadata": {},
   "outputs": [],
   "source": []
  }
 ],
 "metadata": {
  "kernelspec": {
   "display_name": "Python 3",
   "language": "python",
   "name": "python3"
  },
  "language_info": {
   "codemirror_mode": {
    "name": "ipython",
    "version": 3
   },
   "file_extension": ".py",
   "mimetype": "text/x-python",
   "name": "python",
   "nbconvert_exporter": "python",
   "pygments_lexer": "ipython3",
   "version": "3.6.5"
  }
 },
 "nbformat": 4,
 "nbformat_minor": 2
}
